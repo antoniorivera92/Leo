{
 "cells": [
  {
   "cell_type": "markdown",
   "metadata": {},
   "source": [
    "# Clase 10"
   ]
  },
  {
   "cell_type": "markdown",
   "metadata": {},
   "source": [
    "## Coordenadas"
   ]
  },
  {
   "cell_type": "markdown",
   "metadata": {},
   "source": [
    "Las coordenadas de un punto se escriben como $P_0(x_0,y_0)$:"
   ]
  },
  {
   "cell_type": "markdown",
   "metadata": {},
   "source": [
    "* $x_0$ significa los pasos que damos sobre el eje $x$ (eje de las abscisas): si $x_0$ es positivo, vamos hacia la derecha; si $x_0$ es negativo, vamos hacia la izquierda; y si $x_0=0$ no nos movemos en el eje $x$."
   ]
  },
  {
   "cell_type": "markdown",
   "metadata": {},
   "source": [
    "* $y_0$ significa los pasos que damos sobre el eje $y$ (eje de las ordenadas): si $y_0$ es positivo, vamos hacia arriba; si $y_0$ es negativo, vamos hacia la abajo; y si $y_0=0$ no nos movemos en el eje $y$."
   ]
  },
  {
   "cell_type": "markdown",
   "metadata": {},
   "source": [
    "## Distancia entre dos puntos"
   ]
  },
  {
   "cell_type": "markdown",
   "metadata": {},
   "source": [
    "Tenemos los puntos $P_1(x_1,y_1)$, $P_2(x_2,y_2)$. La distancia entre los puntos es"
   ]
  },
  {
   "cell_type": "markdown",
   "metadata": {},
   "source": [
    "$$ d=\\sqrt{(x_2-x_1)^2+(y_2-y_1)^2} $$"
   ]
  },
  {
   "cell_type": "markdown",
   "metadata": {},
   "source": [
    "* ***Ejemplo:*** ¿Cuál es la distancia entre los puntos $P_1(8,9)$ y $P_2(1,3)$?"
   ]
  },
  {
   "cell_type": "markdown",
   "metadata": {},
   "source": [
    "$$ d=\\sqrt{(x_2-x_1)^2+(y_2-y_1)^2} $$"
   ]
  },
  {
   "cell_type": "markdown",
   "metadata": {},
   "source": [
    "$$ d=\\sqrt{((1)-(8))^2+((3)-(9))^2} $$"
   ]
  },
  {
   "cell_type": "markdown",
   "metadata": {},
   "source": [
    "$$ d=\\sqrt{(-7)^2+(-6)^2} $$"
   ]
  },
  {
   "cell_type": "markdown",
   "metadata": {},
   "source": [
    "$$ d=\\sqrt{49+36}=\\sqrt{85}=9.21 $$"
   ]
  },
  {
   "cell_type": "markdown",
   "metadata": {},
   "source": [
    "* ***Ejemplo:*** ¿Cuál es la distancia entre los puntos $P_1(3,-2)$ y $P_2(-5,-6)$?"
   ]
  },
  {
   "cell_type": "markdown",
   "metadata": {},
   "source": [
    "$$ d=\\sqrt{(x_2-x_1)^2+(y_2-y_1)^2} $$"
   ]
  },
  {
   "cell_type": "markdown",
   "metadata": {},
   "source": [
    "$$ d=\\sqrt{((-5)-(3))^2+((-6)-(-2))^2} $$"
   ]
  },
  {
   "cell_type": "markdown",
   "metadata": {},
   "source": [
    "$$ d=\\sqrt{(-5-3)^2+(-6+2)^2} $$"
   ]
  },
  {
   "cell_type": "markdown",
   "metadata": {},
   "source": [
    "$$ d=\\sqrt{(-8)^2+(-4)^2} $$"
   ]
  },
  {
   "cell_type": "markdown",
   "metadata": {},
   "source": [
    "$$ d=\\sqrt{64+16}=\\sqrt{80}=8.9 $$"
   ]
  },
  {
   "cell_type": "markdown",
   "metadata": {},
   "source": [
    "## Gráfica de una ecuación lineal"
   ]
  },
  {
   "cell_type": "markdown",
   "metadata": {},
   "source": [
    "Una ecuación lineal tiene la forma"
   ]
  },
  {
   "cell_type": "markdown",
   "metadata": {},
   "source": [
    "$$ y=mx+b $$"
   ]
  },
  {
   "cell_type": "markdown",
   "metadata": {},
   "source": [
    "Para poder graficar la ecuación, podemos tabular: das ciertos valores a $x$ y ves qué valores nos da para la $y$."
   ]
  },
  {
   "cell_type": "markdown",
   "metadata": {},
   "source": [
    "* ***Ejemplo:*** Tenemos la ecuación $y=-4x+2$"
   ]
  },
  {
   "cell_type": "markdown",
   "metadata": {},
   "source": [
    "| $x$ | $y$ |\n",
    "|-----|-----|\n",
    "| -3  | 14    |\n",
    "| -2  | 10    |\n",
    "| -1  | 6    |\n",
    "| 0   | 2    |\n",
    "| 1   | -2    |\n",
    "| 2   | -6    |\n",
    "| 3   | -10    |"
   ]
  },
  {
   "cell_type": "markdown",
   "metadata": {},
   "source": [
    "## Ecuación de la recta"
   ]
  },
  {
   "cell_type": "markdown",
   "metadata": {},
   "source": [
    "### Pendiente, $m$"
   ]
  },
  {
   "cell_type": "markdown",
   "metadata": {},
   "source": [
    "$$ m=\\dfrac{y_2-y_1}{x_2-x_1} $$"
   ]
  },
  {
   "cell_type": "markdown",
   "metadata": {},
   "source": [
    "Lo que nos dice la pendiente es: *\"si estamos en una recta, por cada unidad que avancemos en el eje $x$ (eje de las abscisas), avanzaremos $m$ unidades en el eje $y$ (eje de las ordenadas).\"**"
   ]
  },
  {
   "cell_type": "markdown",
   "metadata": {},
   "source": [
    "* ***Ejemplo:*** ¿Cuál es la pendiente entre los puntos $P_1(-3,14)$ y $P_2(-2,10)$?"
   ]
  },
  {
   "cell_type": "markdown",
   "metadata": {},
   "source": [
    "$$ m=\\dfrac{(10)-(14)}{(-2)-(-3)} $$"
   ]
  },
  {
   "cell_type": "markdown",
   "metadata": {},
   "source": [
    "$$ m=\\dfrac{-4}{+1}=-4 $$"
   ]
  },
  {
   "cell_type": "markdown",
   "metadata": {},
   "source": [
    "* ***Ejemplo:*** Tenemos la ecuación $y=5x-3$. Tabula"
   ]
  },
  {
   "cell_type": "markdown",
   "metadata": {},
   "source": [
    "| $x$ | $y$ |\n",
    "|-----|-----|\n",
    "| -3  | -18    |\n",
    "| -2  | -13   |\n",
    "| -1  | -8    |\n",
    "| 0   | -3    |\n",
    "| 1   | 2    |\n",
    "| 2   | 7    |\n",
    "| 3   | 12    |"
   ]
  },
  {
   "cell_type": "markdown",
   "metadata": {},
   "source": [
    "* ***Ejemplo:*** ¿Cuál es la pendiente entre los puntos $P_1(-3,4)$ y $P_2(7,4)$?"
   ]
  },
  {
   "cell_type": "markdown",
   "metadata": {},
   "source": [
    "$$ m=\\dfrac{(4)-(4)}{(7)-(-3)}=\\dfrac{0}{10}=0 $$"
   ]
  },
  {
   "cell_type": "markdown",
   "metadata": {},
   "source": [
    "* ***Ejemplo:*** ¿Cuál es la pendiente entre los puntos $P_1(0,1)$ y $P_2(0,11)$?"
   ]
  },
  {
   "cell_type": "markdown",
   "metadata": {},
   "source": [
    "$$ m=\\dfrac{(11)-(1)}{(0)-(0)}=\\dfrac{10}{0}=\\infty $$"
   ]
  },
  {
   "cell_type": "markdown",
   "metadata": {},
   "source": [
    "### Forma ordenada-pendiente"
   ]
  },
  {
   "cell_type": "markdown",
   "metadata": {},
   "source": [
    "Si nos dan la pendiente $m$ y la ordenada al origen $b$, la ecuación de la recta tiene la forma"
   ]
  },
  {
   "cell_type": "markdown",
   "metadata": {},
   "source": [
    "$$ y=mx+b $$"
   ]
  },
  {
   "cell_type": "markdown",
   "metadata": {},
   "source": [
    "### Forma punto-pendiente"
   ]
  },
  {
   "cell_type": "markdown",
   "metadata": {},
   "source": [
    "Te dan un puntos $P_1(x_1,y_1)$ y la pendiente $m$. La ecuación de la recta tiene la forma"
   ]
  },
  {
   "cell_type": "markdown",
   "metadata": {},
   "source": [
    "$$ y-y_1=m(x-x_1) $$"
   ]
  },
  {
   "cell_type": "markdown",
   "metadata": {},
   "source": [
    "### Forma entre dos puntos"
   ]
  },
  {
   "cell_type": "markdown",
   "metadata": {},
   "source": [
    "Te dan dos puntos $P_1(x_1,y_1)$, $P_2(x_2,y_2)$. La ecuación de la recta que pasa por estos dos puntos es"
   ]
  },
  {
   "cell_type": "markdown",
   "metadata": {},
   "source": [
    "$$ y-y_1=\\dfrac{y_2-y_1}{x_2-x_1}(x-x_1) $$"
   ]
  },
  {
   "cell_type": "markdown",
   "metadata": {},
   "source": [
    "### Forma canónica"
   ]
  },
  {
   "cell_type": "markdown",
   "metadata": {},
   "source": [
    "Si nos dan la abscisa al origen $a$ y la ordenada al origen $b$, entonces la ecuación de la recta tiene la forma"
   ]
  },
  {
   "cell_type": "markdown",
   "metadata": {},
   "source": [
    "$$ \\dfrac{x}{a}+\\dfrac{y}{b}=1 $$"
   ]
  },
  {
   "cell_type": "markdown",
   "metadata": {},
   "source": [
    "### Forma general"
   ]
  },
  {
   "cell_type": "markdown",
   "metadata": {},
   "source": [
    "En la forma general la ecuación simplemente tiene que estar igualada a cero:"
   ]
  },
  {
   "cell_type": "markdown",
   "metadata": {},
   "source": [
    "$$ Ax+By+C=0 $$"
   ]
  }
 ],
 "metadata": {
  "kernelspec": {
   "display_name": "Julia 1.1.0",
   "language": "julia",
   "name": "julia-1.1"
  },
  "language_info": {
   "file_extension": ".jl",
   "mimetype": "application/julia",
   "name": "julia",
   "version": "1.1.0"
  }
 },
 "nbformat": 4,
 "nbformat_minor": 4
}
