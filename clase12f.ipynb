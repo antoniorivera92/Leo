{
 "cells": [
  {
   "cell_type": "markdown",
   "metadata": {},
   "source": [
    "# Clase 12"
   ]
  },
  {
   "cell_type": "markdown",
   "metadata": {},
   "source": [
    "Si aplicamos la fórmula de la tangente\n",
    "$$\\theta=\\tan^{-1}\\left(\\dfrac{F_y}{F_x}\\right)$$\n",
    "para encontrar la dirección del vector diremos que el ángulo es:\n",
    "* $\\theta$ si el vector cae en el primer cuadrante\n",
    "* $180^\\circ-\\theta$ si el vector cae en el segundo cuadrante\n",
    "* $180^\\circ+\\theta$ si el vector cae en el tercer cuadrante\n",
    "* $360^\\circ-\\theta$ si el vector cae en el cuarto cuadrante"
   ]
  },
  {
   "cell_type": "markdown",
   "metadata": {},
   "source": [
    "La razón de esto es porque nuestra fórmula sólo nos permite medir el ángulo desde el eje $x$."
   ]
  },
  {
   "cell_type": "markdown",
   "metadata": {},
   "source": [
    "**Extra)Encuentra el vector resultante de la suma de los vectores $\\vec{d}_1=(1.5m,-2m)$ y $\\vec{d}_2=(-3m,-1m)$ por el método gráfico y analítico.**"
   ]
  },
  {
   "cell_type": "markdown",
   "metadata": {},
   "source": [
    "$$ d_x={d_1}_x+{d_2}_x=(1.5m)+(-3m)=-1.5m $$"
   ]
  },
  {
   "cell_type": "markdown",
   "metadata": {},
   "source": [
    "$$ d_y={d_1}_y+{d_2}_y=(-2m)+(-1m)=-3m $$"
   ]
  },
  {
   "cell_type": "markdown",
   "metadata": {},
   "source": [
    "$$ \\vec{d}=(-1.5m,-3m)$$"
   ]
  },
  {
   "cell_type": "markdown",
   "metadata": {},
   "source": [
    "$$d=\\sqrt{(-1.5)^2+(-3)^2}=3.35$$"
   ]
  },
  {
   "cell_type": "markdown",
   "metadata": {},
   "source": [
    "$$ \\theta=\\tan^{-1}\\left(\\dfrac{-3}{-1.5}\\right) $$"
   ]
  },
  {
   "cell_type": "code",
   "execution_count": 2,
   "metadata": {},
   "outputs": [
    {
     "data": {
      "text/plain": [
       "243.43494882292202"
      ]
     },
     "execution_count": 2,
     "metadata": {},
     "output_type": "execute_result"
    }
   ],
   "source": [
    "atand(2)+180"
   ]
  },
  {
   "cell_type": "markdown",
   "metadata": {},
   "source": [
    "$$ \\vec{d}=(3.35m,243.4^\\circ)$$"
   ]
  },
  {
   "cell_type": "markdown",
   "metadata": {},
   "source": [
    "**Extra)Encuentra el vector resultante de la suma de los vectores $\\vec{d}_1=(3m,15^\\circ)$ y $\\vec{d}_2=(2m,120^\\circ)$ por el método gráfico y analítico.**"
   ]
  },
  {
   "cell_type": "markdown",
   "metadata": {},
   "source": [
    "* $\\vec{d}_1$ está en el primer cuadrante \n",
    "* $\\vec{d}_2$ está en el segundo cuadrante "
   ]
  },
  {
   "cell_type": "markdown",
   "metadata": {},
   "source": [
    "## Mecánica\n",
    "\n",
    "Es la rama de la física que estudia al movimiento. Este tema se subdivide en tres partes:\n",
    "\n",
    "* **Cinemática:** \"¿Cómo... ?\" (tiempo, distancia, rapidez, velocidad, aceleración,...)\n",
    "* **Dinámica:** \"¿Por qué... ?\" (fuerza, masa, aceleración,...)\n",
    "* **Estática:** \"¿Por qué no... ?\" (equilibrio)\n",
    "\n",
    "Lo que falta en la pregunta es \"... se mueve?\""
   ]
  },
  {
   "cell_type": "markdown",
   "metadata": {},
   "source": [
    "### Cinemática"
   ]
  },
  {
   "cell_type": "markdown",
   "metadata": {},
   "source": [
    "* Distancia: (cantidad escalar)\n",
    "\n",
    "* Desplazamiento: (cantidad vectorial)\n",
    "\n",
    "* Rapidez: (cantidad escalar)\n",
    "\n",
    "* Velocidad: (cantidad vectorial)\n"
   ]
  },
  {
   "cell_type": "markdown",
   "metadata": {},
   "source": [
    "$$ v=\\dfrac{d}{t} $$"
   ]
  },
  {
   "cell_type": "markdown",
   "metadata": {},
   "source": [
    "$v$ : rapidez\n",
    "\n",
    "$d$ : distancia recorrida\n",
    "\n",
    "$t$ : tiempo transcurrido"
   ]
  },
  {
   "cell_type": "markdown",
   "metadata": {},
   "source": [
    "$$ \\vec{v}=\\dfrac{\\vec{d}}{t} $$"
   ]
  },
  {
   "cell_type": "markdown",
   "metadata": {},
   "source": [
    "$\\vec{v}$ : vector velocidad\n",
    "\n",
    "$\\vec{d}$ : vector desplazamiento\n",
    "\n",
    "$t$ : tiempo transcurrido"
   ]
  },
  {
   "cell_type": "markdown",
   "metadata": {},
   "source": [
    "### M. R. U. ( $v=$constante )"
   ]
  },
  {
   "cell_type": "markdown",
   "metadata": {},
   "source": [
    "**3) Una\tpersona\tcamina\t200\tm\thacia\tel\tNorte\ty\tluego\t140\tm.\thacia\tel\tSur.\tSi\tel\ttiempo\ttotal\tde\tsu\t\n",
    "recorrido\tfue\tde\t4\tmin.\tCalcula:\t\n",
    "a) La\tdistancia\trecorrida\tpor\tla\tpersona\t\n",
    "b) Su\tdesplazamiento\t(magnitud\ty\tdirección)\t\n",
    "c) Su\trapidez\t\n",
    "d) Su\tvelocidad\t(magnitud\ty\tdirección)**"
   ]
  },
  {
   "cell_type": "markdown",
   "metadata": {},
   "source": [
    "Avanza 200 m pero se le cayó un zapato y regresa 140 m.\n",
    "\n",
    "La **distancia recorrida** es la longitud total que caminó: 340 m.\n",
    "\n",
    "El **desplazamiento** es la longitud a la que se encuentra del punto de partida y la dirección entre el punto de partida y el punto de llegada: 60 m hacia el Norte.\n",
    "\n",
    "$$\\vec{d}=(60m,\\text{Norte})$$"
   ]
  },
  {
   "cell_type": "markdown",
   "metadata": {},
   "source": [
    "La **rapidez** es"
   ]
  },
  {
   "cell_type": "markdown",
   "metadata": {},
   "source": [
    "$$ v=\\dfrac{d}{t}=\\dfrac{340m}{240s}=1.416\\ \\dfrac{m}{s} $$"
   ]
  },
  {
   "cell_type": "markdown",
   "metadata": {},
   "source": [
    "La **velocidad** es"
   ]
  },
  {
   "cell_type": "markdown",
   "metadata": {},
   "source": [
    "$$ \\vec{v}=\\dfrac{\\vec{d}}{t}=\\dfrac{(60m,\\text{Norte})}{240s}=\\left(0.25\\ \\dfrac{m}{s},\\text{Norte}\\right) $$"
   ]
  },
  {
   "cell_type": "markdown",
   "metadata": {},
   "source": [
    "***Nota:*** Dividir un vector entre un escalar simplemente es dividir la magnitud del vector entre el escalar.\n",
    "\n",
    "***Nota:*** Multiplicar un vector por un escalar simplemente es multiplicar la magnitud del vector por el escalar."
   ]
  },
  {
   "cell_type": "markdown",
   "metadata": {},
   "source": [
    "**4) Un\tcorredor\tda\tuna\tvuelta\ty\tmedia\talrededor\tde\tuna\tpista\tcircular\tde\t80\tm.\tde\tdiámetro\ten\t2\t\n",
    "minutos.\tDetermina:\t\n",
    "a) la\trapidez\tdel\tcorredor\ten\tm/s\ty\tkm/h\t\n",
    "b) la\tvelocidad\tdel\tcorredor\ten\tm/s\ty\tkm/h.**\n"
   ]
  },
  {
   "cell_type": "markdown",
   "metadata": {},
   "source": [
    "$v$ : rapidez\n",
    "\n",
    "$d$ : distancia recorrida\n",
    "\n",
    "$t$ : tiempo transcurrido"
   ]
  },
  {
   "cell_type": "markdown",
   "metadata": {},
   "source": [
    "$$ v=\\dfrac{d}{t} $$"
   ]
  },
  {
   "cell_type": "markdown",
   "metadata": {},
   "source": [
    "La longitud de la pista se puede encontrar con la fórmula de perímetro de un círculo"
   ]
  },
  {
   "cell_type": "markdown",
   "metadata": {},
   "source": [
    "$$ P=\\pi D=\\pi\\cdot(80m)=251.33 m  $$"
   ]
  },
  {
   "cell_type": "markdown",
   "metadata": {},
   "source": [
    "$$d=1.5\\cdot251.33m=376.995m$$"
   ]
  },
  {
   "cell_type": "markdown",
   "metadata": {},
   "source": [
    "$t=120s$"
   ]
  },
  {
   "cell_type": "markdown",
   "metadata": {},
   "source": [
    "$$ v=\\dfrac{376.995m}{120s}=3.14\\ \\dfrac{m}{s} $$"
   ]
  },
  {
   "cell_type": "markdown",
   "metadata": {},
   "source": [
    "$$ \\vec{v}=\\dfrac{\\vec{d}}{t} $$"
   ]
  },
  {
   "cell_type": "markdown",
   "metadata": {},
   "source": [
    "### M. R. U. A. "
   ]
  },
  {
   "cell_type": "markdown",
   "metadata": {},
   "source": [
    "1. $d=\\left(\\dfrac{v_i+v_f}{2}\\right)t$\n",
    "\n",
    "2. $v_f=v_i+at$\n",
    "\n",
    "3. $d=v_i\\cdot t+\\dfrac{1}{2}\\cdot a\\cdot t^2$\n",
    "\n",
    "4. $d=v_f\\cdot t-\\dfrac{1}{2}\\cdot a\\cdot t^2$\n",
    "\n",
    "5. ${v_f}^2={v_fi}^2+2ad$"
   ]
  },
  {
   "cell_type": "markdown",
   "metadata": {},
   "source": [
    "$t$ : tiempo transcurrido\n",
    "\n",
    "$d$ : distancia\n",
    "\n",
    "$v_i$ : rapidez inicial\n",
    "\n",
    "$v_f$ : rapidez final\n",
    "\n",
    "$a$ : aceleración"
   ]
  },
  {
   "cell_type": "markdown",
   "metadata": {},
   "source": [
    "$$$$"
   ]
  }
 ],
 "metadata": {
  "kernelspec": {
   "display_name": "Julia 1.1.0",
   "language": "julia",
   "name": "julia-1.1"
  },
  "language_info": {
   "file_extension": ".jl",
   "mimetype": "application/julia",
   "name": "julia",
   "version": "1.1.0"
  }
 },
 "nbformat": 4,
 "nbformat_minor": 4
}
