{
 "cells": [
  {
   "cell_type": "markdown",
   "metadata": {},
   "source": [
    "# Leyes de la termodinámica"
   ]
  },
  {
   "cell_type": "markdown",
   "metadata": {},
   "source": [
    "* **Ley 0 de la termodinámica:** Si pones dos cuerpos juntos intercambiarán calor hasta llegar a la misma temperatura."
   ]
  },
  {
   "cell_type": "markdown",
   "metadata": {},
   "source": [
    "El equilibrio térmico se debe a ley 0."
   ]
  },
  {
   "cell_type": "markdown",
   "metadata": {},
   "source": [
    "* **Ley 1 de la termodinámica:** Le energía no se crea ni se destruye, sólo se transforma.\n",
    "\n",
    "$$ \\Delta U=\\Delta Q-\\Delta W $$\n",
    "\n",
    "* $\\Delta U$: energía interna\n",
    "* $\\Delta Q$: \"qualor\" \n",
    "* $\\Delta W$: Work (trabajo)"
   ]
  },
  {
   "cell_type": "markdown",
   "metadata": {},
   "source": [
    "# Equilibrio térmico"
   ]
  },
  {
   "cell_type": "markdown",
   "metadata": {},
   "source": [
    "Vamos a seguir a trabajando con la fórmula de específico."
   ]
  },
  {
   "cell_type": "markdown",
   "metadata": {},
   "source": [
    "$$ Q=m\\cdot C\\cdot\\Delta T $$"
   ]
  },
  {
   "cell_type": "markdown",
   "metadata": {},
   "source": [
    "* $Q$ : \"qualor\"\n",
    "* $m$ : masa\n",
    "* $\\Delta T$ : diferencia de temperatura\n",
    "* $C$ : específico"
   ]
  },
  {
   "cell_type": "markdown",
   "metadata": {},
   "source": [
    "$$ \\Delta T=T_f-T_i $$"
   ]
  },
  {
   "cell_type": "markdown",
   "metadata": {},
   "source": [
    "* $T_i$ : temperatura inicial\n",
    "* $T_f$ : temperatura final"
   ]
  },
  {
   "cell_type": "markdown",
   "metadata": {},
   "source": [
    "<img src=\"recta1.png\" align=\"middle\" width=\"1000\">"
   ]
  },
  {
   "cell_type": "markdown",
   "metadata": {},
   "source": [
    "* **Ejemplo:** Si a una vaso con $0.5kg$ de agua le damos $300J$ de \"qualor\", ¿cuánto aumenta su temperatura?"
   ]
  },
  {
   "cell_type": "markdown",
   "metadata": {},
   "source": [
    "* Datos:\n",
    "    * $m=0.5kg$\n",
    "    * $Q=300J$\n",
    "    * $\\Delta T=?$\n",
    "    * $C=4186 J/(kg\\cdot K)$"
   ]
  },
  {
   "cell_type": "markdown",
   "metadata": {},
   "source": [
    "* Fórmula:\n",
    "\n",
    "$$ Q=m\\cdot C\\cdot\\Delta T $$"
   ]
  },
  {
   "cell_type": "markdown",
   "metadata": {},
   "source": [
    "$$ \\Delta T=\\dfrac{Q}{m\\cdot C}=0.14K=0.14^\\circ C $$"
   ]
  },
  {
   "cell_type": "code",
   "execution_count": 1,
   "metadata": {},
   "outputs": [
    {
     "data": {
      "text/plain": [
       "0.1433349259436216"
      ]
     },
     "execution_count": 1,
     "metadata": {},
     "output_type": "execute_result"
    }
   ],
   "source": [
    "300/(0.5*4186)"
   ]
  },
  {
   "cell_type": "markdown",
   "metadata": {},
   "source": [
    "* **Ejemplo:** Una sartén de acero de $0.2kg$  está a una temperatura de $200^\\circ C$. Le ponemos $0.5kg$ de agua a $10^\\circ C$. ¿A qué temperatura llega el sartén?"
   ]
  },
  {
   "cell_type": "markdown",
   "metadata": {},
   "source": [
    "* Datos:\n",
    "    * $m_\\text{acero}=0.2kg$\n",
    "    * $m_\\text{agua}=0.5kg$\n",
    "    * ${T_i}_\\text{acero}=200^\\circ C$\n",
    "    * ${T_i}_\\text{agua}=10^\\circ C$\n",
    "    * ${T_f}_\\text{acero}=?$\n",
    "    * ${T_f}_\\text{agua}=?$\n",
    "    * $Q_\\text{acero}=?$ (pero no importa)\n",
    "    * $Q_\\text{agua}=?$ (pero no importa)\n",
    "    * $C_\\text{acero}=480J/(kg\\cdot K)$\n",
    "    * $C_\\text{agua}=4186J/(kg\\cdot K)$"
   ]
  },
  {
   "cell_type": "markdown",
   "metadata": {},
   "source": [
    "* Fórmula:"
   ]
  },
  {
   "cell_type": "markdown",
   "metadata": {},
   "source": [
    "$$ Q_\\text{acero}=m_\\text{acero}\\cdot C_\\text{acero}\\cdot\\Delta T_\\text{acero} $$"
   ]
  },
  {
   "cell_type": "markdown",
   "metadata": {},
   "source": [
    "$$ Q_\\text{agua}=m_\\text{agua}\\cdot C_\\text{agua}\\cdot\\Delta T_\\text{agua} $$"
   ]
  },
  {
   "cell_type": "markdown",
   "metadata": {},
   "source": [
    "$$ \\Delta T=T_f-T_i $$"
   ]
  },
  {
   "cell_type": "markdown",
   "metadata": {},
   "source": [
    "En los problema de equilibrio térmico, se igualan los \"qualores\", uno con signo positivo y el otro con signo negativo."
   ]
  },
  {
   "cell_type": "markdown",
   "metadata": {},
   "source": [
    "$$ Q_\\text{acero}=-Q_\\text{agua} $$"
   ]
  },
  {
   "cell_type": "markdown",
   "metadata": {},
   "source": [
    "$$ m_\\text{acero}\\cdot C_\\text{acero}\\cdot\\Delta T_\\text{acero}=-m_\\text{agua}\\cdot C_\\text{agua}\\cdot\\Delta T_\\text{agua} $$"
   ]
  },
  {
   "cell_type": "markdown",
   "metadata": {},
   "source": [
    "En los problema de equilibrio térmico,la temperatura final de los objetos es \n",
    "la misma."
   ]
  },
  {
   "cell_type": "markdown",
   "metadata": {},
   "source": [
    "$$ m_\\text{acero}\\cdot C_\\text{acero}\\cdot({T_f}-{T_i}_\\text{acero})=-m_\\text{agua}\\cdot C_\\text{agua}\\cdot({T_f}-{T_i}_\\text{agua}) $$"
   ]
  },
  {
   "cell_type": "markdown",
   "metadata": {},
   "source": [
    "Vamos a despejar temperatura final:"
   ]
  },
  {
   "cell_type": "markdown",
   "metadata": {},
   "source": [
    "$$ m_\\text{acero}\\cdot C_\\text{acero}\\cdot({T_f}-{T_i}_\\text{acero})=-m_\\text{agua}\\cdot C_\\text{agua}\\cdot({T_f}-{T_i}_\\text{agua}) $$"
   ]
  },
  {
   "cell_type": "markdown",
   "metadata": {},
   "source": [
    "$$ m_\\text{acero}\\cdot C_\\text{acero}\\cdot{T_f}-m_\\text{acero}\\cdot C_\\text{acero}\\cdot{T_i}_\\text{acero}=-m_\\text{agua}\\cdot C_\\text{agua}\\cdot{T_f}+m_\\text{agua}\\cdot C_\\text{agua}\\cdot{T_i}_\\text{agua} $$"
   ]
  },
  {
   "cell_type": "markdown",
   "metadata": {},
   "source": [
    "$$ m_\\text{acero}\\cdot C_\\text{acero}\\cdot{T_f}+m_\\text{agua}\\cdot C_\\text{agua}\\cdot{T_f}=m_\\text{acero}\\cdot C_\\text{acero}\\cdot{T_i}_\\text{acero}\n",
    "+m_\\text{agua}\\cdot C_\\text{agua}\\cdot{T_i}_\\text{agua} $$"
   ]
  },
  {
   "cell_type": "markdown",
   "metadata": {},
   "source": [
    "$$ (m_\\text{acero}\\cdot C_\\text{acero}+_\\text{agua}\\cdot C_\\text{agua})\\cdot{T_f}=m_\\text{acero}\\cdot C_\\text{acero}\\cdot{T_i}_\\text{acero}+m_\\text{agua}\\cdot C_\\text{agua}\\cdot{T_i}_\\text{agua} $$"
   ]
  },
  {
   "cell_type": "markdown",
   "metadata": {},
   "source": [
    "$$ {T_f}=\\dfrac{m_\\text{acero}\\cdot C_\\text{acero}\\cdot{T_i}_\\text{acero}+m_\\text{agua}\\cdot C_\\text{agua}\\cdot{T_i}_\\text{agua}}{m_\\text{acero}\\cdot C_\\text{acero}+m_\\text{agua}\\cdot C_\\text{agua}} $$"
   ]
  },
  {
   "cell_type": "markdown",
   "metadata": {},
   "source": [
    "* Datos:\n",
    "    * $m_\\text{acero}=0.2kg$\n",
    "    * $m_\\text{agua}=0.5kg$\n",
    "    * ${T_i}_\\text{acero}=200^\\circ C$\n",
    "    * ${T_i}_\\text{agua}=10^\\circ C$\n",
    "    * $C_\\text{acero}=480J/(kg\\cdot K)$\n",
    "    * $C_\\text{agua}=4186J/(kg\\cdot K)$"
   ]
  },
  {
   "cell_type": "code",
   "execution_count": 5,
   "metadata": {},
   "outputs": [
    {
     "data": {
      "text/plain": [
       "18.332571950662402"
      ]
     },
     "execution_count": 5,
     "metadata": {},
     "output_type": "execute_result"
    }
   ],
   "source": [
    "(0.2*480*200+0.5*4186*10)/(0.2*480+0.5*4186)"
   ]
  },
  {
   "cell_type": "markdown",
   "metadata": {},
   "source": [
    "* $T_f=18.33^\\circ C$"
   ]
  },
  {
   "cell_type": "markdown",
   "metadata": {},
   "source": [
    "# Proceso isotérmico"
   ]
  },
  {
   "cell_type": "markdown",
   "metadata": {},
   "source": [
    "Se trata de tener la misma temperatura."
   ]
  },
  {
   "cell_type": "markdown",
   "metadata": {},
   "source": [
    "# Proceso isocórico"
   ]
  },
  {
   "cell_type": "markdown",
   "metadata": {},
   "source": [
    "Se trata de un tener el mismo volumen."
   ]
  },
  {
   "cell_type": "markdown",
   "metadata": {},
   "source": [
    "# Proceso isobárico"
   ]
  },
  {
   "cell_type": "markdown",
   "metadata": {},
   "source": [
    "Se trata de un tener la misma presión."
   ]
  }
 ],
 "metadata": {
  "kernelspec": {
   "display_name": "Python 3",
   "language": "python",
   "name": "python3"
  },
  "language_info": {
   "codemirror_mode": {
    "name": "ipython",
    "version": 3
   },
   "file_extension": ".py",
   "mimetype": "text/x-python",
   "name": "python",
   "nbconvert_exporter": "python",
   "pygments_lexer": "ipython3",
   "version": "3.7.7"
  }
 },
 "nbformat": 4,
 "nbformat_minor": 4
}
