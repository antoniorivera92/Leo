{
 "cells": [
  {
   "cell_type": "markdown",
   "metadata": {},
   "source": [
    "# a) Definición y forma típica de las gráficas de las funciones seno y coseno"
   ]
  },
  {
   "cell_type": "markdown",
   "metadata": {},
   "source": [
    "Las funciones seno y coseno se definen a partir de triángulos rectángulos."
   ]
  },
  {
   "cell_type": "markdown",
   "metadata": {},
   "source": [
    "Un triángulo rectángulo es un triángulo en el que uno de sus ángulos es de $90^\\circ$ o $\\dfrac{\\pi}{2}$ rad."
   ]
  },
  {
   "cell_type": "markdown",
   "metadata": {},
   "source": [
    "<img src=\"triangulo_rect.png\" align=\"middle\" width=\"200\">"
   ]
  },
  {
   "cell_type": "markdown",
   "metadata": {},
   "source": [
    "Las *funciones trigonométricas* se definen (sólo para triángulos rectángulos) en términos de los catetos y la hipotenusa.\n",
    "\n",
    "$$ \\sin x=\\dfrac{\\text{c.o.}}{\\text{hip.}} $$\n",
    "\n",
    "$$ \\cos x=\\dfrac{\\text{c.a.}}{\\text{hip.}} $$\n",
    "\n",
    "* c.o.: cateto opuesto\n",
    "* c.a.: cateto adyacente\n",
    "* hip.: hipotenusa"
   ]
  },
  {
   "cell_type": "markdown",
   "metadata": {},
   "source": [
    "| $ x $        | $ \\sin (x) $ | $ \\cos (x) $ |\n",
    "|--------------|--------------|--------------|\n",
    "| $ 0^\\circ $  |  $ 0 $            |  $ 1 $             |\n",
    "| $ 30^\\circ $ |  $\\dfrac{1}{2}$            | $\\dfrac{\\sqrt{3}}{2}$             |\n",
    "| $ 45^\\circ $ |$\\dfrac{\\sqrt{2}}{2}$ |  $\\dfrac{\\sqrt{2}}{2}$             |\n",
    "| $ 60^\\circ $ |$\\dfrac{\\sqrt{3}}{2}$              |   $\\dfrac{1}{2}$           |\n",
    "| $ 90^\\circ $ | $ 1 $              |   $ 0 $           |"
   ]
  },
  {
   "cell_type": "markdown",
   "metadata": {},
   "source": [
    "<img src=\"seno_coseno.png\" align=\"middle\" width=\"1000\">"
   ]
  },
  {
   "cell_type": "markdown",
   "metadata": {},
   "source": [
    "#  b) Descripción general en forma matemática. $y=A\\sin(nx)$, en la cual definas qué es $A$ y qué es $n$."
   ]
  },
  {
   "cell_type": "markdown",
   "metadata": {},
   "source": [
    "La $A$ es la amplitud del seno mientras que $n$ es la frecuencia del seno."
   ]
  },
  {
   "cell_type": "markdown",
   "metadata": {},
   "source": [
    "#  c) Dominio y rango de ambas funciones tanto en grados como en valores de $\\pi$."
   ]
  },
  {
   "cell_type": "markdown",
   "metadata": {},
   "source": [
    "$$ {\\rm{Dom}}\\,(\\sin)=\\{x\\in\\mathbb{R}\\}=(-\\infty,\\infty) $$"
   ]
  },
  {
   "cell_type": "markdown",
   "metadata": {},
   "source": [
    "$$ {\\rm{Ran}}\\,(\\sin)=\\{y\\in\\mathbb{R}|-1\\leq y\\leq1\\}=[-1,1] $$"
   ]
  },
  {
   "cell_type": "markdown",
   "metadata": {},
   "source": [
    "$$ {\\rm{Dom}}\\,(\\cos)=\\{x\\in\\mathbb{R}\\}=(-\\infty,\\infty) $$"
   ]
  },
  {
   "cell_type": "markdown",
   "metadata": {},
   "source": [
    "$$ {\\rm{Ran}}\\,(\\cos)=\\{y\\in\\mathbb{R}|-1\\leq y\\leq1\\}=[-1,1] $$"
   ]
  },
  {
   "cell_type": "markdown",
   "metadata": {},
   "source": [
    "Para que juegues: https://www.desmos.com/calculator/s18kljnw4n"
   ]
  }
 ],
 "metadata": {
  "kernelspec": {
   "display_name": "Python 3",
   "language": "python",
   "name": "python3"
  },
  "language_info": {
   "codemirror_mode": {
    "name": "ipython",
    "version": 3
   },
   "file_extension": ".py",
   "mimetype": "text/x-python",
   "name": "python",
   "nbconvert_exporter": "python",
   "pygments_lexer": "ipython3",
   "version": "3.7.7"
  }
 },
 "nbformat": 4,
 "nbformat_minor": 4
}
