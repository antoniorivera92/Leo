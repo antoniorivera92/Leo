{
 "cells": [
  {
   "cell_type": "markdown",
   "metadata": {},
   "source": [
    "# Clase"
   ]
  },
  {
   "cell_type": "markdown",
   "metadata": {},
   "source": [
    "## Principio de Arquímides"
   ]
  },
  {
   "cell_type": "markdown",
   "metadata": {},
   "source": [
    "*\"La fuerza que ejerce un fluido sobre un objeto al ser sumergido en el fluido es equivalente al peso del fluido desplazado por el objeto sumergido.\"*"
   ]
  },
  {
   "cell_type": "markdown",
   "metadata": {},
   "source": [
    "$\\rho$ : densidad\n",
    "\n",
    "$F_c$ : fuerza de flotación\n",
    "\n",
    "$w_o$ : peso del objeto\n",
    "\n",
    "$\\rho_o$ : densidad del objeto\n",
    "\n",
    "$\\rho_L$ : densidad del fluido\n",
    "\n",
    "$V_o$ : volumen del objeto"
   ]
  },
  {
   "cell_type": "markdown",
   "metadata": {},
   "source": [
    "La fuerza de flotación, por el principio de Arquímedes, es igual al peso del fluido desplazado por el objeto."
   ]
  },
  {
   "cell_type": "markdown",
   "metadata": {},
   "source": [
    "$$F_c=w_L=m_Lg$$"
   ]
  },
  {
   "cell_type": "markdown",
   "metadata": {},
   "source": [
    "Recordemos que la densidad es\n",
    "$$\\rho=\\dfrac{m}{V}$$"
   ]
  },
  {
   "cell_type": "markdown",
   "metadata": {},
   "source": [
    "Despejemos la masa de esta relación por lo que obtenemos"
   ]
  },
  {
   "cell_type": "markdown",
   "metadata": {},
   "source": [
    "$$m=\\rho\\cdot V$$"
   ]
  },
  {
   "cell_type": "markdown",
   "metadata": {},
   "source": [
    "Remplazando en la fuerza de flotación"
   ]
  },
  {
   "cell_type": "markdown",
   "metadata": {},
   "source": [
    "$$F_c=w_L=m_L\\cdot g=(\\rho_L\\cdot V_o)\\cdot g$$"
   ]
  },
  {
   "cell_type": "markdown",
   "metadata": {},
   "source": [
    "Por otro lado, el peso del objeto es"
   ]
  },
  {
   "cell_type": "markdown",
   "metadata": {},
   "source": [
    "$$ w_o=m_o\\cdot g=(\\rho_o\\cdot V_o)\\cdot g $$"
   ]
  },
  {
   "cell_type": "markdown",
   "metadata": {},
   "source": [
    "Entonces, si restamos estas dos cantidades obtenemos que"
   ]
  },
  {
   "cell_type": "markdown",
   "metadata": {},
   "source": [
    "$$ F_c-w_o=\\rho_L\\cdot V_o\\cdot g-\\rho_o\\cdot V_o\\cdot g=(\\rho_L-\\rho_o)V_o\\cdot g $$"
   ]
  },
  {
   "cell_type": "markdown",
   "metadata": {},
   "source": [
    "Con esto obtenemos las siguientes conclusiones:"
   ]
  },
  {
   "cell_type": "markdown",
   "metadata": {},
   "source": [
    "\\begin{equation}\n",
    "F_c-w_o=\n",
    "\\begin{cases}\n",
    "&>0\\quad\\text{(sube) y }\\rho_o<\\rho_L \\\\\n",
    "&=0\\quad\\text{(se queda) y }\\rho_o=\\rho_L \\\\\n",
    "&<0\\quad\\text{(baja) y }\\rho_o>\\rho_L\n",
    "\\end{cases}\n",
    "\\end{equation}"
   ]
  },
  {
   "cell_type": "markdown",
   "metadata": {},
   "source": [
    "Dicho de otra manera, al sumergir un objeto en un fluido, el objeto:\n",
    "* flota si su densidad es menor que la del fluido\n",
    "* se queda donde lo pusimos si las densidades del objeto y del fluido con iguales\n",
    "* se hunde si su densidad es mayor que la del fluido"
   ]
  },
  {
   "cell_type": "markdown",
   "metadata": {},
   "source": [
    "***Problema:***\n",
    "Tienes un metal cuya densidad es de $13.4\\ \\text{kg/L}$ y lo quieres sumergir en mercurio ($\\rho_{Hg}=13.6\\ \\text{kg/L}$). Dejamos el metal encima del mercurio. Sumergimos el metal. Este ¿sube, se queda ahí, o se sumerje más?"
   ]
  },
  {
   "cell_type": "markdown",
   "metadata": {},
   "source": [
    "***Respuesta:*** Sube porque la densidad del mercurio es mayor que la del metal desconocido."
   ]
  },
  {
   "cell_type": "markdown",
   "metadata": {},
   "source": [
    "***Problema:***\n",
    "Tienes una pelota de playa de volumen $V_o= 3\\ \\text{L}$. Y la sumergimos en agua salada ($\\rho_L=1027\\ \\text{kg/m}^3$). ¿Cuál es la fuerza de flotación sobre la pelota?\n",
    "\n",
    "Pensemos la densidad de la pelota como $1.225\\ \\text{kg/m}^3$."
   ]
  },
  {
   "cell_type": "markdown",
   "metadata": {},
   "source": [
    "***Respuesta:*** "
   ]
  },
  {
   "cell_type": "markdown",
   "metadata": {},
   "source": [
    "* ***Datos:***\n",
    "    * Volumen, $V_o=3\\ \\text{L}$\n",
    "    * Densidad del líquido, $\\rho_L=1027\\ \\text{kg/m}^3$\n",
    "    * Densidad del objeto, $\\rho_o=1.225\\ \\text{kg/m}^3$\n",
    "    * $g=9.81\\ \\text{m/s}^2$"
   ]
  },
  {
   "cell_type": "markdown",
   "metadata": {},
   "source": [
    "* ***Fórmulas:***"
   ]
  },
  {
   "cell_type": "markdown",
   "metadata": {},
   "source": [
    "$$F_c=m_L\\cdot g$$"
   ]
  },
  {
   "cell_type": "markdown",
   "metadata": {},
   "source": [
    "En general, $$\\rho=\\dfrac{m}{V}$$"
   ]
  },
  {
   "cell_type": "markdown",
   "metadata": {},
   "source": [
    "Despejamos"
   ]
  },
  {
   "cell_type": "markdown",
   "metadata": {},
   "source": [
    "$$m_L=\\rho_L\\cdot V_L$$"
   ]
  },
  {
   "cell_type": "markdown",
   "metadata": {},
   "source": [
    "El $V_L$ es el volumen que subió la playa al meter la pelota en ella. Entonces,"
   ]
  },
  {
   "cell_type": "markdown",
   "metadata": {},
   "source": [
    "$$V_L=V_o$$"
   ]
  },
  {
   "cell_type": "markdown",
   "metadata": {},
   "source": [
    "$$m_L=\\rho_L\\cdot V_o$$"
   ]
  },
  {
   "cell_type": "markdown",
   "metadata": {},
   "source": [
    "* ***Sustitución:***"
   ]
  },
  {
   "cell_type": "markdown",
   "metadata": {},
   "source": [
    "Tenemos que hacer conversión de unidades: (Recordemos que $1\\ \\text{L} = 1\\ \\text{dm}^3$)"
   ]
  },
  {
   "cell_type": "markdown",
   "metadata": {},
   "source": [
    "$$3\\ \\text{L}=3\\ \\text{dm}^3=3\\ \\text{dm}^3\\times\\left(\\dfrac{1\\ \\text{m}}{10\\ \\text{dm}}\\right)\\times\\left(\\dfrac{1\\ \\text{m}}{10\\ \\text{dm}}\\right)\\times\\left(\\dfrac{1\\ \\text{m}}{10\\ \\text{dm}}\\right)$$"
   ]
  },
  {
   "cell_type": "markdown",
   "metadata": {},
   "source": [
    "$$3\\ \\text{L}=3\\ \\text{dm}^3=3\\ \\text{dm}^3\\times\\left(\\dfrac{1\\ \\text{m}}{10\\ \\text{dm}}\\right)^3$$"
   ]
  },
  {
   "cell_type": "markdown",
   "metadata": {},
   "source": [
    "$$3\\ \\text{L}=3\\ \\text{dm}^3=3\\ \\text{dm}^3\\times\\left(\\dfrac{1\\ \\text{m}^3}{1000\\ \\text{dm}^3}\\right)=\\dfrac{3}{1000}\\ \\text{m}^3$$"
   ]
  },
  {
   "cell_type": "code",
   "execution_count": 17,
   "metadata": {},
   "outputs": [
    {
     "data": {
      "text/plain": [
       "0.003"
      ]
     },
     "execution_count": 17,
     "metadata": {},
     "output_type": "execute_result"
    }
   ],
   "source": [
    "3/1000"
   ]
  },
  {
   "cell_type": "markdown",
   "metadata": {},
   "source": [
    "$$3\\ \\text{L}=0.003\\ \\text{m}^3$$"
   ]
  },
  {
   "cell_type": "markdown",
   "metadata": {},
   "source": [
    "$$m_L=\\rho_L\\cdot V_L=\\left(1027\\dfrac{\\text{kg}}{\\text{m}^3}\\right)\\cdot 0.003\\ \\text{m}^3=3.081\\ \\text{kg}$$"
   ]
  },
  {
   "cell_type": "code",
   "execution_count": 18,
   "metadata": {},
   "outputs": [
    {
     "data": {
      "text/plain": [
       "3.081"
      ]
     },
     "execution_count": 18,
     "metadata": {},
     "output_type": "execute_result"
    }
   ],
   "source": [
    "1027*0.003"
   ]
  },
  {
   "cell_type": "markdown",
   "metadata": {},
   "source": [
    "$$F_c=m_L\\cdot g=(3.081\\ \\text{kg})\\cdot(9.81\\ \\text{m}/\\text{s}^2)=30.22\\ \\text{N}$$"
   ]
  },
  {
   "cell_type": "code",
   "execution_count": 19,
   "metadata": {},
   "outputs": [
    {
     "data": {
      "text/plain": [
       "30.224610000000002"
      ]
     },
     "execution_count": 19,
     "metadata": {},
     "output_type": "execute_result"
    }
   ],
   "source": [
    "3.081*9.81"
   ]
  },
  {
   "cell_type": "markdown",
   "metadata": {},
   "source": [
    "En este ejercicio particular no usamos la densidad de la pelota."
   ]
  },
  {
   "cell_type": "markdown",
   "metadata": {},
   "source": [
    "## Principio de continuidad"
   ]
  },
  {
   "cell_type": "markdown",
   "metadata": {},
   "source": [
    "*\"Nos dice que, para un líquido, el volumen que entra es el que sale.\"*"
   ]
  },
  {
   "cell_type": "markdown",
   "metadata": {},
   "source": [
    "$$V_i=V_f$$"
   ]
  },
  {
   "cell_type": "markdown",
   "metadata": {},
   "source": [
    "Gasto: Es el volumen de líquido que pasa por un punto en un cierto tiempo."
   ]
  },
  {
   "cell_type": "markdown",
   "metadata": {},
   "source": [
    "$$G=\\dfrac{V}{t}$$"
   ]
  },
  {
   "cell_type": "markdown",
   "metadata": {},
   "source": [
    "$G$ : gasto\n",
    "\n",
    "$V$ : volumen del líquido\n",
    "\n",
    "$t$ : tiempo"
   ]
  },
  {
   "cell_type": "markdown",
   "metadata": {},
   "source": [
    "***Ejemplo:*** Durante $10\\ \\text{s}$ tiras $100\\ \\text{L}$ de agua con una manguera. ¿Cuál es el gasto?"
   ]
  },
  {
   "cell_type": "markdown",
   "metadata": {},
   "source": [
    "* ***Datos:***\n",
    "\n",
    "    * $t= 10\\ \\text{s}$\n",
    "    * $V=100\\ \\text{L}$"
   ]
  },
  {
   "cell_type": "markdown",
   "metadata": {},
   "source": [
    "* ***Fórmula:***\n",
    "$$ G=\\dfrac{V}{t}$$"
   ]
  },
  {
   "cell_type": "markdown",
   "metadata": {},
   "source": [
    "* ***Sustitución:***"
   ]
  },
  {
   "cell_type": "markdown",
   "metadata": {},
   "source": [
    "$$ G=\\dfrac{100\\ \\text{L}}{10\\ \\text{s}}=10\\ \\dfrac{\\text{L}}{\\text{s}}$$"
   ]
  }
 ],
 "metadata": {
  "kernelspec": {
   "display_name": "Python 3",
   "language": "python",
   "name": "python3"
  },
  "language_info": {
   "codemirror_mode": {
    "name": "ipython",
    "version": 3
   },
   "file_extension": ".py",
   "mimetype": "text/x-python",
   "name": "python",
   "nbconvert_exporter": "python",
   "pygments_lexer": "ipython3",
   "version": "3.7.7"
  }
 },
 "nbformat": 4,
 "nbformat_minor": 4
}
