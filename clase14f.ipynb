{
 "cells": [
  {
   "cell_type": "markdown",
   "metadata": {},
   "source": [
    "# Clase 14"
   ]
  },
  {
   "cell_type": "markdown",
   "metadata": {},
   "source": [
    "$$ $$"
   ]
  },
  {
   "cell_type": "markdown",
   "metadata": {},
   "source": [
    "$$ $$"
   ]
  },
  {
   "cell_type": "markdown",
   "metadata": {},
   "source": [
    "$$ $$"
   ]
  },
  {
   "cell_type": "markdown",
   "metadata": {},
   "source": [
    "$$ $$"
   ]
  },
  {
   "cell_type": "markdown",
   "metadata": {},
   "source": [
    "$$ $$"
   ]
  },
  {
   "cell_type": "markdown",
   "metadata": {},
   "source": [
    "$$ $$"
   ]
  },
  {
   "cell_type": "markdown",
   "metadata": {},
   "source": [
    "$$ $$"
   ]
  },
  {
   "cell_type": "markdown",
   "metadata": {},
   "source": [
    "$$ $$"
   ]
  },
  {
   "cell_type": "markdown",
   "metadata": {},
   "source": [
    "$$ $$"
   ]
  },
  {
   "cell_type": "markdown",
   "metadata": {},
   "source": [
    "$$ $$"
   ]
  },
  {
   "cell_type": "markdown",
   "metadata": {},
   "source": [
    "$$ $$"
   ]
  },
  {
   "cell_type": "markdown",
   "metadata": {},
   "source": [
    "$$ $$"
   ]
  },
  {
   "cell_type": "markdown",
   "metadata": {},
   "source": [
    "$$ $$"
   ]
  },
  {
   "cell_type": "markdown",
   "metadata": {},
   "source": [
    "$$ $$"
   ]
  },
  {
   "cell_type": "markdown",
   "metadata": {},
   "source": [
    "$$ $$"
   ]
  },
  {
   "cell_type": "markdown",
   "metadata": {},
   "source": [
    "$$ $$"
   ]
  },
  {
   "cell_type": "markdown",
   "metadata": {},
   "source": [
    "$$ $$"
   ]
  },
  {
   "cell_type": "markdown",
   "metadata": {},
   "source": [
    "$$ $$"
   ]
  },
  {
   "cell_type": "markdown",
   "metadata": {},
   "source": [
    "### M. R. U. A.  "
   ]
  },
  {
   "cell_type": "markdown",
   "metadata": {},
   "source": [
    "En el MRUA, por el momento, las gráficas que nos importarán son:\n",
    "* v vs. t \n",
    "* a vs. t."
   ]
  },
  {
   "cell_type": "markdown",
   "metadata": {},
   "source": [
    "**1) ¿Qué\tsignifica\tMRUA?\tEscribe\tsus\tformulas.**"
   ]
  },
  {
   "cell_type": "markdown",
   "metadata": {},
   "source": [
    "Significa que **ahora** la aceleración es constante."
   ]
  },
  {
   "cell_type": "markdown",
   "metadata": {},
   "source": [
    "**¿Qué es aceleración?** La rapidez de la rapidez."
   ]
  },
  {
   "cell_type": "markdown",
   "metadata": {},
   "source": [
    "\"Cómo cambia la velocidad en el tiempo.\""
   ]
  },
  {
   "cell_type": "markdown",
   "metadata": {},
   "source": [
    "$$ a=\\dfrac{v_f-v_i}{t} $$"
   ]
  },
  {
   "cell_type": "markdown",
   "metadata": {},
   "source": [
    "Las fórmula importantes:"
   ]
  },
  {
   "cell_type": "markdown",
   "metadata": {},
   "source": [
    "$t$ : tiempo transcurrido\n",
    "\n",
    "$d$ : distancia\n",
    "\n",
    "$v_i$ : rapidez inicial\n",
    "\n",
    "$v_f$ : rapidez final\n",
    "\n",
    "$a$ : aceleración"
   ]
  },
  {
   "cell_type": "markdown",
   "metadata": {},
   "source": [
    "$$ a=9.81\\ \\dfrac{m}{s^2}=\\dfrac{9.81\\ \\frac{m}{s}}{s} $$"
   ]
  },
  {
   "cell_type": "markdown",
   "metadata": {},
   "source": [
    "La aceleración debida a la gravedad me dice que, si yo caigo, la rapidez con la que caigo aumenta $9.81 \\dfrac{m}{s}$ cada segundo."
   ]
  },
  {
   "cell_type": "markdown",
   "metadata": {},
   "source": [
    "**Extra1) Un automóvil  mantiene una aceleración constante de $8\\ \\dfrac{m}{s^2}$. Si su rapidez inicial era de $20\\ \\dfrac{m}{s}$, ¿cuál será su rapidez después de $6 s$?**"
   ]
  },
  {
   "cell_type": "markdown",
   "metadata": {},
   "source": [
    "* Datos:\n",
    "    * $t=6s$\n",
    "    * $v_i=20m/s$\n",
    "    * $v_f=?$\n",
    "    * $a=8m/s^2$"
   ]
  },
  {
   "cell_type": "markdown",
   "metadata": {},
   "source": [
    "* Fórmula:"
   ]
  },
  {
   "cell_type": "markdown",
   "metadata": {},
   "source": [
    "$$ a=\\dfrac{v_f-v_i}{t} $$"
   ]
  },
  {
   "cell_type": "markdown",
   "metadata": {},
   "source": [
    "$$ at=v_f-v_i $$"
   ]
  },
  {
   "cell_type": "markdown",
   "metadata": {},
   "source": [
    "$$ v_f=at+v_i $$"
   ]
  },
  {
   "cell_type": "markdown",
   "metadata": {},
   "source": [
    "* Sustitución:"
   ]
  },
  {
   "cell_type": "markdown",
   "metadata": {},
   "source": [
    "$$ v_f=(8)(6)+20=68\\ \\dfrac{m}{s} $$"
   ]
  },
  {
   "cell_type": "markdown",
   "metadata": {},
   "source": [
    "**3)La\tsiguiente\tgráfica\trepresenta\tun\tMRUA\tcalcula\tla\taceleración\ty\tla\tdistancia\trecorrida\ta\tlos\t6\ts:**"
   ]
  },
  {
   "cell_type": "markdown",
   "metadata": {},
   "source": [
    "* Datos:\n",
    "    * $t=6s$\n",
    "    * $d=300m$\n",
    "    * $v_i=20m/s$\n",
    "    * $v_f=80m/s$\n",
    "    * $a=?$"
   ]
  },
  {
   "cell_type": "markdown",
   "metadata": {},
   "source": [
    "* Fórmulas:\n",
    "    1. $d=\\left(\\dfrac{v_i+v_f}{2}\\right)t$\n",
    "\n",
    "    2. $v_f=v_i+a\\cdot t$\n",
    "\n",
    "    3. $d=v_i\\cdot t+\\dfrac{1}{2}\\cdot a\\cdot t^2$\n",
    "\n",
    "    4. $d=v_f\\cdot t-\\dfrac{1}{2}\\cdot a\\cdot t^2$\n",
    "\n",
    "    5. ${v_f}^2={v_i}^2+2\\cdot a\\cdot d$"
   ]
  },
  {
   "cell_type": "markdown",
   "metadata": {},
   "source": [
    "* Sustitución"
   ]
  },
  {
   "cell_type": "markdown",
   "metadata": {},
   "source": [
    "$$d=\\left(\\dfrac{20m/s+80m/s}{2}\\right)(6s)=300m$$"
   ]
  },
  {
   "cell_type": "markdown",
   "metadata": {},
   "source": [
    "$$v_f=v_i+a\\cdot t$$\n"
   ]
  },
  {
   "cell_type": "markdown",
   "metadata": {},
   "source": [
    "$$ v_f-v_i=at $$"
   ]
  },
  {
   "cell_type": "markdown",
   "metadata": {},
   "source": [
    "$$ a=\\dfrac{v_f-v_i}{t} $$"
   ]
  },
  {
   "cell_type": "markdown",
   "metadata": {},
   "source": [
    "$$ a=\\dfrac{80m/s-20m/s}{6s}=10m/s^2 $$"
   ]
  },
  {
   "cell_type": "markdown",
   "metadata": {},
   "source": [
    "**4)Una\tmoto\tcon\tuna\tvelocidad\tinicial\tde\t6\tm/s\tse\tacelera\tuniformemente\ta\trazón\tde\t1.5\tm/s2\tdurante\t8\t\n",
    "segundos.\ta)\tCalcula\tla\tdistancia\tque\trecorre\tla\tmoto\tdurante\tese\ttiempo.\tb)\t¿Qué\tvelocidad\tlleva\tla\t\n",
    "moto\ta\tlos\t8\tsegundos?**"
   ]
  },
  {
   "cell_type": "markdown",
   "metadata": {},
   "source": [
    "* Datos:\n",
    "    * $t=8s$\n",
    "    * $d=96m$\n",
    "    * $v_i=6m/s$\n",
    "    * $v_f=?$\n",
    "    * $a=1.5m/s^2$"
   ]
  },
  {
   "cell_type": "markdown",
   "metadata": {},
   "source": [
    "* Fórmulas:\n",
    "    1. $d=\\left(\\dfrac{v_i+v_f}{2}\\right)t$\n",
    "\n",
    "    2. $v_f=v_i+a\\cdot t$\n",
    "\n",
    "    3. $d=v_i\\cdot t+\\dfrac{1}{2}\\cdot a\\cdot t^2$\n",
    "\n",
    "    4. $d=v_f\\cdot t-\\dfrac{1}{2}\\cdot a\\cdot t^2$\n",
    "\n",
    "    5. ${v_f}^2={v_i}^2+2\\cdot a\\cdot d$"
   ]
  },
  {
   "cell_type": "markdown",
   "metadata": {},
   "source": [
    "* Sustitución:"
   ]
  },
  {
   "cell_type": "markdown",
   "metadata": {},
   "source": [
    "$$d=(6m/s)\\cdot(8s)+\\dfrac{1}{2}\\cdot (1.5m/s^2)\\cdot (8s)^2=48m+48m=96m$$"
   ]
  },
  {
   "cell_type": "markdown",
   "metadata": {},
   "source": [
    "$${v_f}^2={v_i}^2+2\\cdot a\\cdot d$$"
   ]
  },
  {
   "cell_type": "markdown",
   "metadata": {},
   "source": [
    "$${v_f}=\\sqrt{{v_i}^2+2\\cdot a\\cdot d}$$"
   ]
  },
  {
   "cell_type": "markdown",
   "metadata": {},
   "source": [
    "$${v_f}=\\sqrt{({6m/s})^2+2\\cdot (1.5m/s^2)\\cdot (96m)}$$"
   ]
  },
  {
   "cell_type": "markdown",
   "metadata": {},
   "source": [
    "$${v_f}=\\sqrt{324m^2/s^2}=18m/s$$"
   ]
  },
  {
   "cell_type": "markdown",
   "metadata": {},
   "source": [
    "$$v_f=v_i+a\\cdot t$$"
   ]
  },
  {
   "cell_type": "markdown",
   "metadata": {},
   "source": [
    "$$v_f=(6m/s)+(1.5m/s^2)\\cdot(8s)=18m/s$$"
   ]
  },
  {
   "cell_type": "markdown",
   "metadata": {},
   "source": [
    "**5) Si\tun\tavión\tque\taterriza\ta\t216\tkm/h\tse\tdetiene\tdespués\tde\trecorrer\t1200\tm.\tCalcula\ta)\tla\taceleración\t\n",
    "del\tavión,\tb)\tel\ttiempo\tque\ttarda\ten\tdetenerse.**"
   ]
  },
  {
   "cell_type": "markdown",
   "metadata": {},
   "source": [
    "### Caída libre y tiro vertical"
   ]
  },
  {
   "cell_type": "markdown",
   "metadata": {},
   "source": [
    "**1) ¿Cómo\tsabes\tsi\tun\tcuerpo\testá\ten\tcaída\tlibre?\tEscribe\tsus\tformulas\tconsiderando\tlo\tque\tacabas\tde\tescribir.**\n"
   ]
  },
  {
   "cell_type": "markdown",
   "metadata": {},
   "source": [
    "Si la aceleración de un cuerpo coincide con la acelaración debida a la gravedad, éste está en caída libre."
   ]
  },
  {
   "cell_type": "markdown",
   "metadata": {},
   "source": [
    "* Caída libre es un tipo de MRUA\n",
    "* Esto significa que tendremos las mismas fórmulas de MRUA pero con\n",
    "    \n",
    "    $$a\\to -g\\qquad d\\to h$$"
   ]
  },
  {
   "cell_type": "markdown",
   "metadata": {},
   "source": [
    "* Fórmulas:\n",
    "    1. $h=\\left(\\dfrac{v_i+v_f}{2}\\right)t$\n",
    "\n",
    "    2. $v_f=v_i-g\\cdot t$\n",
    "\n",
    "    3. $h=v_i\\cdot t-\\dfrac{1}{2}\\cdot g\\cdot t^2$\n",
    "\n",
    "    4. $h=v_f\\cdot t+\\dfrac{1}{2}\\cdot g\\cdot t^2$\n",
    "\n",
    "    5. ${v_f}^2={v_i}^2-2\\cdot g\\cdot h$"
   ]
  },
  {
   "cell_type": "markdown",
   "metadata": {},
   "source": [
    "* Caída libre, $v_i=0m/s$\n",
    "* Tiro vertical, $v_i\\neq0m/s$"
   ]
  },
  {
   "cell_type": "markdown",
   "metadata": {},
   "source": [
    "**4) Romina\tdeja\tcaer\tun\tdesarmador\tdesde\tla\tazotea\tde\tsu\tcasa.\tSi\tel\tdesarmador\tllega\tal\tsuelo\tdespués\tde\t2\ts.,\tcalcula:\ta)\tla\taltura\tde\tla\tcasa\tde\tRomina\ty\tb)\tla\tvelocidad\tcon\tla\tque\tel\tdesarmador\tllega\tal\tsuelo.**"
   ]
  },
  {
   "cell_type": "markdown",
   "metadata": {},
   "source": [
    "* Datos:\n",
    "    * $t=2s$\n",
    "    * $h=-19.62m$\n",
    "    * $v_i=0m/s$\n",
    "    * $v_f=?$\n",
    "    * $g=9.81m/s^2$"
   ]
  },
  {
   "cell_type": "markdown",
   "metadata": {},
   "source": [
    "* Fórmulas:\n",
    "    1. $h=\\left(\\dfrac{v_i+v_f}{2}\\right)t$\n",
    "\n",
    "    2. $v_f=v_i-g\\cdot t$\n",
    "\n",
    "    3. $h=v_i\\cdot t-\\dfrac{1}{2}\\cdot g\\cdot t^2$\n",
    "\n",
    "    4. $h=v_f\\cdot t+\\dfrac{1}{2}\\cdot g\\cdot t^2$\n",
    "\n",
    "    5. ${v_f}^2={v_i}^2-2\\cdot g\\cdot h$"
   ]
  },
  {
   "cell_type": "markdown",
   "metadata": {},
   "source": [
    "* Sustitución"
   ]
  },
  {
   "cell_type": "markdown",
   "metadata": {},
   "source": [
    "$$h=-\\dfrac{1}{2}\\cdot (9.81m/s^2)\\cdot (2s)^2=-19.62m$$"
   ]
  },
  {
   "cell_type": "markdown",
   "metadata": {},
   "source": [
    "$$v_f=-(9.81m/s^2)\\cdot (2s)=-19.62m/s$$"
   ]
  },
  {
   "cell_type": "markdown",
   "metadata": {},
   "source": [
    "**5) Raúl\tlanza\tun\tbalón\tde\tbasquetbol\tverticalmente\thacia\tarriba\ty\tregresa\ta\tsu\tpunto\tde\tpartida\t3.2\ts.\t\n",
    "después.\tCalcula\ta)\tla\tvelocidad\tdel\tlanzamiento,\tb)\tla\taltura\tmáxima\tque\talcanza\tla\tpelota,\tc)\tel\t\n",
    "tiempo\tde\tsubida\ty\td)\tla\tvelocidad\tcon\tla\tque\tregresa\ta\tlas\tmanos\tde\tRaúl.**"
   ]
  },
  {
   "cell_type": "markdown",
   "metadata": {},
   "source": [
    "Método 1:\n",
    "* Datos para el inciso a):\n",
    "    * $t=3.2s$ (es el tiempo que tarda en subir y bajar; si sólo quisiéramos el tiempo que tarda en subir sería la mitad de $3.2s$)\n",
    "    * $h=0m$\n",
    "    * $v_i=?$\n",
    "    * $g=9.81m/s^2$\n",
    "\n",
    "Método 2:\n",
    "* Datos para el inciso a):\n",
    "    * $t=1.6s$\n",
    "    * $v_i=?$\n",
    "    * $v_f=0m/s$ (ésta es cero porque llegó a su altura máxima)\n",
    "    * $g=9.81m/s^2$\n",
    "\n",
    "La rapidez con la que regresa el balón a las manos de Raúl es la misma con la que lo aventó pero negativa.\n",
    "\n",
    "* Datos para el inciso b):\n",
    "    * $t=1.6s$\n",
    "    * $h=?$\n",
    "    * $v_i=15.696m/s$\n",
    "    * $v_f=0m/s$ (ésta es cero porque llegó a su altura máxima)\n",
    "    * $g=9.81m/s^2$\n"
   ]
  },
  {
   "cell_type": "markdown",
   "metadata": {},
   "source": [
    "* Fórmulas:\n",
    "    1. $h=\\left(\\dfrac{v_i+v_f}{2}\\right)t$\n",
    "\n",
    "    2. $v_f=v_i-g\\cdot t$\n",
    "\n",
    "    3. $h=v_i\\cdot t-\\dfrac{1}{2}\\cdot g\\cdot t^2$\n",
    "\n",
    "    4. $h=v_f\\cdot t+\\dfrac{1}{2}\\cdot g\\cdot t^2$\n",
    "\n",
    "    5. ${v_f}^2={v_i}^2-2\\cdot g\\cdot h$"
   ]
  },
  {
   "cell_type": "markdown",
   "metadata": {},
   "source": [
    "* Sustitución:"
   ]
  },
  {
   "cell_type": "markdown",
   "metadata": {},
   "source": [
    "#### Inciso a)"
   ]
  },
  {
   "cell_type": "markdown",
   "metadata": {},
   "source": [
    "Método 1:"
   ]
  },
  {
   "cell_type": "markdown",
   "metadata": {},
   "source": [
    "$$h=v_i\\cdot t-\\dfrac{1}{2}\\cdot g\\cdot t^2$$"
   ]
  },
  {
   "cell_type": "markdown",
   "metadata": {},
   "source": [
    "$$h+\\dfrac{1}{2}\\cdot g\\cdot t^2=v_i\\cdot t$$"
   ]
  },
  {
   "cell_type": "markdown",
   "metadata": {},
   "source": [
    "$$v_i=\\dfrac{h+\\dfrac{1}{2}\\cdot g\\cdot t^2}{t}$$"
   ]
  },
  {
   "cell_type": "markdown",
   "metadata": {},
   "source": [
    "$$v_i=\\dfrac{0m+\\dfrac{1}{2}\\cdot (9.81m/s^2)\\cdot (3.2s)^2}{(3.2s)}=15.696m/s$$"
   ]
  },
  {
   "cell_type": "markdown",
   "metadata": {},
   "source": [
    "Método 2:"
   ]
  },
  {
   "cell_type": "markdown",
   "metadata": {},
   "source": [
    "$$v_i=v_f+g\\cdot t=0+(9.81m/s^2)(1.6s)=15.696m/s$$"
   ]
  },
  {
   "cell_type": "markdown",
   "metadata": {},
   "source": [
    "#### Inciso b)"
   ]
  },
  {
   "cell_type": "markdown",
   "metadata": {},
   "source": [
    "$$h=\\left(\\dfrac{15.696m/s+0m/s}{2}\\right)(1.6s)=12.55m$$"
   ]
  },
  {
   "cell_type": "markdown",
   "metadata": {},
   "source": [
    "# Clase 15 "
   ]
  },
  {
   "cell_type": "markdown",
   "metadata": {},
   "source": [
    "**Promedio:** Valor más probable"
   ]
  },
  {
   "cell_type": "markdown",
   "metadata": {},
   "source": [
    "**Error absoluto:** Restamos cada medida con el promedio y obtenemos el promedio de éstas."
   ]
  },
  {
   "cell_type": "markdown",
   "metadata": {},
   "source": [
    "**Intervalo de confianza:** El promedio $\\pm$ el error abosluto."
   ]
  },
  {
   "cell_type": "markdown",
   "metadata": {},
   "source": [
    "**Error relativo:** Error absoluto entre el promedio."
   ]
  },
  {
   "cell_type": "code",
   "execution_count": 5,
   "metadata": {},
   "outputs": [
    {
     "data": {
      "text/plain": [
       "4"
      ]
     },
     "execution_count": 5,
     "metadata": {},
     "output_type": "execute_result"
    }
   ],
   "source": [
    "2+2"
   ]
  },
  {
   "cell_type": "code",
   "execution_count": 6,
   "metadata": {},
   "outputs": [
    {
     "data": {
      "text/plain": [
       "7-element Array{Float64,1}:\n",
       " 5.6\n",
       " 5.9\n",
       " 5.8\n",
       " 5.3\n",
       " 5.4\n",
       " 5.7\n",
       " 5.8"
      ]
     },
     "execution_count": 6,
     "metadata": {},
     "output_type": "execute_result"
    }
   ],
   "source": [
    "rand(5.3:0.1:5.9, 7)"
   ]
  },
  {
   "cell_type": "markdown",
   "metadata": {},
   "source": [
    "**Promedio**"
   ]
  },
  {
   "cell_type": "code",
   "execution_count": 7,
   "metadata": {},
   "outputs": [
    {
     "data": {
      "text/plain": [
       "39.5"
      ]
     },
     "execution_count": 7,
     "metadata": {},
     "output_type": "execute_result"
    }
   ],
   "source": [
    "5.6+5.9+5.8+5.3+5.4+5.7+5.8"
   ]
  },
  {
   "cell_type": "code",
   "execution_count": 8,
   "metadata": {},
   "outputs": [
    {
     "data": {
      "text/plain": [
       "5.642857142857143"
      ]
     },
     "execution_count": 8,
     "metadata": {},
     "output_type": "execute_result"
    }
   ],
   "source": [
    "39.5/7"
   ]
  },
  {
   "cell_type": "markdown",
   "metadata": {},
   "source": [
    "**Nota:** En el promedio tomas el mismo número de decimales que hay en tus medidas originales. Además, redondeas.\n",
    "\n",
    "\n",
    "* El promedio es 5.6"
   ]
  },
  {
   "cell_type": "markdown",
   "metadata": {},
   "source": [
    "Los siguientes son la resta \"absoluta\" de cada medida con el promedio."
   ]
  },
  {
   "cell_type": "markdown",
   "metadata": {},
   "source": [
    "0.0, 0.3, 0.2, 0.3, 0.2, 0.1, 0.2"
   ]
  },
  {
   "cell_type": "markdown",
   "metadata": {},
   "source": [
    "La suma de todos los números anteriores es 1.3"
   ]
  },
  {
   "cell_type": "code",
   "execution_count": 9,
   "metadata": {},
   "outputs": [
    {
     "data": {
      "text/plain": [
       "0.18571428571428572"
      ]
     },
     "execution_count": 9,
     "metadata": {},
     "output_type": "execute_result"
    }
   ],
   "source": [
    "1.3/7"
   ]
  },
  {
   "cell_type": "markdown",
   "metadata": {},
   "source": [
    "* El error absoluto es 0.18"
   ]
  },
  {
   "cell_type": "markdown",
   "metadata": {},
   "source": [
    "* El intervalo de confianza es $(5.6\\pm0.18)$"
   ]
  },
  {
   "cell_type": "markdown",
   "metadata": {},
   "source": [
    "Esto quiere decir que lo que estamos midiendo puede medir entre 5.42 y 5.78"
   ]
  },
  {
   "cell_type": "code",
   "execution_count": 12,
   "metadata": {},
   "outputs": [
    {
     "data": {
      "text/plain": [
       "0.03214285714285715"
      ]
     },
     "execution_count": 12,
     "metadata": {},
     "output_type": "execute_result"
    }
   ],
   "source": [
    "0.18/5.6"
   ]
  },
  {
   "cell_type": "markdown",
   "metadata": {},
   "source": [
    "* El error relativo es $0.032$"
   ]
  },
  {
   "cell_type": "markdown",
   "metadata": {},
   "source": [
    "* El error relativo porcentual es $3.2\\%$"
   ]
  },
  {
   "cell_type": "markdown",
   "metadata": {},
   "source": [
    "## Tiro parabólico"
   ]
  },
  {
   "cell_type": "markdown",
   "metadata": {},
   "source": [
    "La velocidad inicial en el tiro parabólico está dado por un vector:"
   ]
  },
  {
   "cell_type": "markdown",
   "metadata": {},
   "source": [
    "$$ \\vec{v_i}=(v_i,\\theta) $$"
   ]
  },
  {
   "cell_type": "markdown",
   "metadata": {},
   "source": [
    "Las componentes horizontal y vertical son"
   ]
  },
  {
   "cell_type": "markdown",
   "metadata": {},
   "source": [
    "$$ {v_i}_x=v_i\\cos\\theta $$"
   ]
  },
  {
   "cell_type": "markdown",
   "metadata": {},
   "source": [
    "$$ {v_i}_y=v_i\\sin\\theta $$"
   ]
  },
  {
   "cell_type": "markdown",
   "metadata": {},
   "source": [
    "En el tiro parabólico el movimiento en la horizontal es MRU. Por lo que las fórmulas son"
   ]
  },
  {
   "cell_type": "markdown",
   "metadata": {},
   "source": [
    "* $ {v_i}_x=\\dfrac{d}{t} $\n",
    "* $ {v_f}_x={v_i}_x $"
   ]
  },
  {
   "cell_type": "markdown",
   "metadata": {},
   "source": [
    "En el tiro parabólico el movimiento en la vertical es MRUA. Por lo que las fórmulas son"
   ]
  },
  {
   "cell_type": "markdown",
   "metadata": {},
   "source": [
    "* Fórmulas:\n",
    "    1. $h=\\left(\\dfrac{{v_i}_y+{v_f}_y}{2}\\right)t$\n",
    "\n",
    "    2. ${v_f}_y={v_i}_y-g\\cdot t$\n",
    "\n",
    "    3. $h={v_i}_y\\cdot t-\\dfrac{1}{2}\\cdot g\\cdot t^2$\n",
    "\n",
    "    4. $h={v_f}_y\\cdot t+\\dfrac{1}{2}\\cdot g\\cdot t^2$\n",
    "\n",
    "    5. ${{v_f}_y}^2={{v_i}_y}^2-2\\cdot g\\cdot h$\n",
    "    \n",
    "    6. ${v_i}_x=\\dfrac{d}{t}$\n",
    "    \n",
    "    7. ${v_f}_x={v_i}_x $"
   ]
  },
  {
   "cell_type": "markdown",
   "metadata": {},
   "source": [
    "**4) Se\tlanza\tuna\tpelota\tde\tgolf\tcon\tuna\tvelocidad\t(resultante)\tde\t40\tm/s\tcon\tun\tángulo\tde\t$45^\\circ$\tcon\t\n",
    "respecto\ta\tla\thorizontal.\tDetermina\ta)\tel\ttiempo\ttotal\tde\tvuelo\tde\tla\tpelota,\tb)\tel\ttiempo\tque\ttarda\tla\t\n",
    "pelota\ten\talcanzar\tsu\taltura\tmáxima,\tc)\tla\taltura\tmáxima\tque\talcanza\tla\tpelota\ty\td)\tsu\talcance\thorizontal.**\n"
   ]
  },
  {
   "cell_type": "markdown",
   "metadata": {},
   "source": [
    "$$ \\vec{F}=(40N,45^\\circ) $$"
   ]
  },
  {
   "cell_type": "markdown",
   "metadata": {},
   "source": [
    "* Datos:\n",
    "    * La velocidad (¡es un vector!) inicial es $\\vec{v}_i=(40m/s,45^\\circ)$\n",
    "    * La magnitud de la velocidad inicial es $v_i=40m/s$\n",
    "    * La dirección de la velocidad inicial es $\\theta=45^\\circ$"
   ]
  },
  {
   "cell_type": "markdown",
   "metadata": {},
   "source": [
    "El *tiempo de vuelo* es el tiempo que tarda el proyectil en regresar al piso."
   ]
  },
  {
   "cell_type": "markdown",
   "metadata": {},
   "source": [
    "#### Inciso a)"
   ]
  },
  {
   "cell_type": "markdown",
   "metadata": {},
   "source": [
    "* $t=?$ (tiempo de vuelo)\n",
    "* $h=0m$\n",
    "* ${v_i}_y=28.28m/s$ (pero la puedo obtener)\n",
    "* $g=9.81m/s^2$"
   ]
  },
  {
   "cell_type": "markdown",
   "metadata": {},
   "source": [
    "$$ {v_i}_y=v_i\\sin\\theta=(40m/s)\\sin45^\\circ=28.28m/s $$"
   ]
  },
  {
   "cell_type": "markdown",
   "metadata": {},
   "source": [
    "$$h={v_i}_y\\cdot t-\\dfrac{1}{2}\\cdot g\\cdot t^2$$"
   ]
  },
  {
   "cell_type": "markdown",
   "metadata": {},
   "source": [
    "$$0=28.28\\cdot t-4.905\\cdot t^2$$"
   ]
  },
  {
   "cell_type": "markdown",
   "metadata": {},
   "source": [
    "$$4.905\\cdot t^2=28.28\\cdot t$$"
   ]
  },
  {
   "cell_type": "markdown",
   "metadata": {},
   "source": [
    "$$\\dfrac{t^2}{t}=\\dfrac{28.28}{4.905}$$"
   ]
  },
  {
   "cell_type": "markdown",
   "metadata": {},
   "source": [
    "$$t=5.76s$$"
   ]
  },
  {
   "cell_type": "markdown",
   "metadata": {},
   "source": [
    "$$0=t(28.28-4.905\\cdot t)$$"
   ]
  },
  {
   "cell_type": "markdown",
   "metadata": {},
   "source": [
    "* Fórmulas:\n",
    "    * ${v_i}_y=v_i\\sin\\theta$\n",
    "    \n",
    "    1. $h=\\left(\\dfrac{{v_i}_y+{v_f}_y}{2}\\right)t$\n",
    "\n",
    "    2. ${v_f}_y={v_i}_y-g\\cdot t$\n",
    "\n",
    "    3. $h={v_i}_y\\cdot t-\\dfrac{1}{2}\\cdot g\\cdot t^2$\n",
    "\n",
    "    4. $h={v_f}_y\\cdot t+\\dfrac{1}{2}\\cdot g\\cdot t^2$\n",
    "\n",
    "    5. ${{v_f}_y}^2={{v_i}_y}^2-2\\cdot g\\cdot h$\n",
    "    \n",
    "    * ${v_i}_x=v_i\\cos\\theta$\n",
    "    \n",
    "    6. ${v_i}_x=\\dfrac{d}{t}$\n",
    "    \n",
    "    7. ${v_f}_x={v_i}_x $"
   ]
  },
  {
   "cell_type": "markdown",
   "metadata": {},
   "source": [
    "#### Inciso b)"
   ]
  },
  {
   "cell_type": "markdown",
   "metadata": {},
   "source": [
    "#### Inciso c)  la altura máxima que alcanza la pelota "
   ]
  },
  {
   "cell_type": "markdown",
   "metadata": {},
   "source": [
    "* $t=2.88s$\n",
    "* $h=40.72 m$ (altura máxima)\n",
    "* ${v_i}_y=28.28m/s$\n",
    "* ${v_f}_y=0m/s$\n",
    "* $g=9.81$"
   ]
  },
  {
   "cell_type": "markdown",
   "metadata": {},
   "source": [
    "* Fórmulas:\n",
    "    * ${v_i}_y=v_i\\sin\\theta$\n",
    "    \n",
    "    1. $h=\\left(\\dfrac{{v_i}_y+{v_f}_y}{2}\\right)t$\n",
    "\n",
    "    2. ${v_f}_y={v_i}_y-g\\cdot t$\n",
    "\n",
    "    3. $h={v_i}_y\\cdot t-\\dfrac{1}{2}\\cdot g\\cdot t^2$\n",
    "\n",
    "    4. $h={v_f}_y\\cdot t+\\dfrac{1}{2}\\cdot g\\cdot t^2$\n",
    "\n",
    "    5. ${{v_f}_y}^2={{v_i}_y}^2-2\\cdot g\\cdot h$\n",
    "    \n",
    "    * ${v_i}_x=v_i\\cos\\theta$\n",
    "    \n",
    "    6. ${v_i}_x=\\dfrac{d}{t}$\n",
    "    \n",
    "    7. ${v_f}_x={v_i}_x $"
   ]
  },
  {
   "cell_type": "markdown",
   "metadata": {},
   "source": [
    "#### d)\tsu\talcance\thorizontal."
   ]
  },
  {
   "cell_type": "markdown",
   "metadata": {},
   "source": [
    "* $d=166.89m$\n",
    "* ${v_i}_x=28.28m/s$\n",
    "* $t=5.76s$"
   ]
  },
  {
   "cell_type": "markdown",
   "metadata": {},
   "source": [
    "<img src=\"dibujo.png\" align=\"middle\" width=\"600\">"
   ]
  },
  {
   "cell_type": "markdown",
   "metadata": {},
   "source": [
    "**3) Desde\tun\tavión\tque\tvuela\thorizontalmente\ta\t1400\tm\tde\taltura\tcon\tuna\tvelocidad\tde\t140\tm/s\tse\tdeja\t\n",
    "caer\tun\tbulto\tde\talimentos.\tHallar:\ta)\tel\ttiempo\tque\ttarda\tel\tbulto\ten\tllegar\tal\tsuelo,\tb)\tel\talcance\tdel\t\n",
    "bulto,\tc)\tla\tmagnitud\tde\tla\tvelocidad\tdel\tbulto\tcuando\tchoca\tcon\tel\tsuelo.**"
   ]
  },
  {
   "cell_type": "markdown",
   "metadata": {},
   "source": [
    "La fuerza es aquel agente físico que provoca que cambie el estado de movimiento de un objeto o su forma."
   ]
  },
  {
   "cell_type": "markdown",
   "metadata": {},
   "source": [
    "*Fuerza interna* significa las fuerzas que están sucediendo dentro de un objeto."
   ]
  },
  {
   "cell_type": "markdown",
   "metadata": {},
   "source": [
    "## Leyes de Newton\n",
    "\n",
    "1a\tley: En ausencia de fuerzas, si un objeto se encuentra en reposo, seguirá en reposo; si un objeto se encuentra con una rapidez, seguirá con esta misma rapidez en una trayectoria rectilínea.\n",
    "\n",
    "2a\tley: Si hay una fuerza , hay un aceleración.\n",
    "$$ \\vec{F}=m\\vec{a} $$\n",
    "\t\n",
    "3a\tley: Si un primer objeto ejerce una fuerza con un segundo objeto, el seguno objeto ejercerá una fuerza de igual magnitud pero sentido contrario.\n"
   ]
  },
  {
   "cell_type": "markdown",
   "metadata": {},
   "source": [
    "Se\taplica\tuna\tfuerza\tde\t550\tN\tpara\tmover\tun\tobjeto\tde\t22\tKg,\t¿cuál\tserá\tla\taceleración\tproducida?\t\n",
    "\t\n"
   ]
  },
  {
   "cell_type": "markdown",
   "metadata": {},
   "source": [
    "¿Cuál\tes\tel\tpeso\tde\tun\tautomóvil\tcuya\tmasa\tes\tde\t1.2\ttoneladas?\n",
    "\n",
    "1 ton = 1000 kg"
   ]
  },
  {
   "cell_type": "markdown",
   "metadata": {},
   "source": [
    "$$ w=mg $$"
   ]
  }
 ],
 "metadata": {
  "kernelspec": {
   "display_name": "Julia 1.1.0",
   "language": "julia",
   "name": "julia-1.1"
  },
  "language_info": {
   "file_extension": ".jl",
   "mimetype": "application/julia",
   "name": "julia",
   "version": "1.1.0"
  }
 },
 "nbformat": 4,
 "nbformat_minor": 4
}
