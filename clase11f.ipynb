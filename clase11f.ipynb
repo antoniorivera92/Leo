{
 "cells": [
  {
   "cell_type": "markdown",
   "metadata": {},
   "source": [
    "# Clase 11"
   ]
  },
  {
   "cell_type": "markdown",
   "metadata": {},
   "source": [
    "## Cantidad escalar"
   ]
  },
  {
   "cell_type": "markdown",
   "metadata": {},
   "source": [
    "Son aquellas que no tienen dirección ni sentido, sólo magnitud (con unidades)."
   ]
  },
  {
   "cell_type": "markdown",
   "metadata": {},
   "source": [
    "P. ej.:"
   ]
  },
  {
   "cell_type": "markdown",
   "metadata": {},
   "source": [
    "* tiempo\n",
    "* temperatura\n",
    "* energía"
   ]
  },
  {
   "cell_type": "markdown",
   "metadata": {},
   "source": [
    "## Cantidad vectorial"
   ]
  },
  {
   "cell_type": "markdown",
   "metadata": {},
   "source": [
    "Es una cantidad física que presenta una magnitud (con unidades), una dirección y un sentido."
   ]
  },
  {
   "cell_type": "markdown",
   "metadata": {},
   "source": [
    "P. ej.:"
   ]
  },
  {
   "cell_type": "markdown",
   "metadata": {},
   "source": [
    "* desplazamiento\n",
    "* velocidad\n",
    "* aceleración\n",
    "* fuerza"
   ]
  },
  {
   "cell_type": "markdown",
   "metadata": {},
   "source": [
    "### Forma de representar vectores"
   ]
  },
  {
   "cell_type": "markdown",
   "metadata": {},
   "source": [
    "La forma cartesiana de representar un vector es"
   ]
  },
  {
   "cell_type": "markdown",
   "metadata": {},
   "source": [
    "$\\vec{F}=(F_x,F_y)$"
   ]
  },
  {
   "cell_type": "markdown",
   "metadata": {},
   "source": [
    "$F_x$ : componente horizontal\n",
    "\n",
    "$F_y$ : componente vertical"
   ]
  },
  {
   "cell_type": "markdown",
   "metadata": {},
   "source": [
    "$$ F=\\sqrt{{F_x}^2+{F_y}^2} $$"
   ]
  },
  {
   "cell_type": "markdown",
   "metadata": {},
   "source": [
    "$$ \\theta=\\tan^{-1}\\left(\\dfrac{F_y}{F_x}\\right) $$"
   ]
  },
  {
   "cell_type": "markdown",
   "metadata": {},
   "source": [
    "La forma polar de representar un vector es"
   ]
  },
  {
   "cell_type": "markdown",
   "metadata": {},
   "source": [
    "$\\vec{F}=(F,\\theta)$"
   ]
  },
  {
   "cell_type": "markdown",
   "metadata": {},
   "source": [
    "$F$ : magnitud del vector\n",
    "\n",
    "$\\theta$ : dirección del vector con respecto al eje $x$ positivo"
   ]
  },
  {
   "cell_type": "markdown",
   "metadata": {},
   "source": [
    "$$F_x=F\\cos\\theta$$"
   ]
  },
  {
   "cell_type": "markdown",
   "metadata": {},
   "source": [
    "$$F_y=F\\sin\\theta$$"
   ]
  },
  {
   "cell_type": "markdown",
   "metadata": {},
   "source": [
    "<img src=\"vector.png\" align=\"middle\" width=\"300\">"
   ]
  },
  {
   "cell_type": "markdown",
   "metadata": {},
   "source": [
    "### Método del paralelogramo"
   ]
  },
  {
   "cell_type": "markdown",
   "metadata": {},
   "source": [
    "# Ejercicios"
   ]
  },
  {
   "cell_type": "markdown",
   "metadata": {},
   "source": [
    "Obtén\tla\tsuma\tvectorial\ten\tlos\tsiguientes\tproblemas.\tElabora\tun\tdiagrama.\tEscribe\tla\tresultante\n",
    "en\tforma\tcartesiana\ty\tpolar.\t(No\tolvides\tponer\tunidades):\t"
   ]
  },
  {
   "cell_type": "markdown",
   "metadata": {},
   "source": [
    "**3) Un\tautomóvil\tcuyo\tdesplazamiento\tfue\tde\t500\tkm.\tal\tNorte\ty\tdespués\t200\tkm.\tal\tSur.**"
   ]
  },
  {
   "cell_type": "markdown",
   "metadata": {},
   "source": [
    "$\\vec{d}=\\vec{d}_1+\\vec{d}_2$"
   ]
  },
  {
   "cell_type": "markdown",
   "metadata": {},
   "source": [
    "$$\\vec{d}_1=(0,500km)$$"
   ]
  },
  {
   "cell_type": "markdown",
   "metadata": {},
   "source": [
    "$$\\vec{d}_2=(0,-200km)$$"
   ]
  },
  {
   "cell_type": "markdown",
   "metadata": {},
   "source": [
    "La suma de vectores se hace por componentes."
   ]
  },
  {
   "cell_type": "markdown",
   "metadata": {},
   "source": [
    "$$ d_x={d_1}_x+{d_2}_x=0+0=0 $$"
   ]
  },
  {
   "cell_type": "markdown",
   "metadata": {},
   "source": [
    "$$ d_y={d_1}_y+{d_2}_y=(500km)+(-200km)=300km $$"
   ]
  },
  {
   "cell_type": "markdown",
   "metadata": {},
   "source": [
    "El desplazamiento resultante en forma cartesiana es"
   ]
  },
  {
   "cell_type": "markdown",
   "metadata": {},
   "source": [
    "$$\\vec{d}=(d_x,d_y)=(0,300km)$$"
   ]
  },
  {
   "cell_type": "markdown",
   "metadata": {},
   "source": [
    "$$ d=\\sqrt{{d_x}^2+{d_y}^2}=\\sqrt{(0)^2+(300km)^2}=\\sqrt{(300km)^2}=300km $$"
   ]
  },
  {
   "cell_type": "markdown",
   "metadata": {},
   "source": [
    "$$ \\theta=\\tan^{-1}\\left(\\dfrac{300km}{0}\\right)=90^\\circ $$"
   ]
  },
  {
   "cell_type": "markdown",
   "metadata": {},
   "source": [
    "El desplazamiento resultante en forma polar es"
   ]
  },
  {
   "cell_type": "markdown",
   "metadata": {},
   "source": [
    "$$\\vec{d}=(d,\\theta)=(300km,90^\\circ)$$"
   ]
  },
  {
   "cell_type": "markdown",
   "metadata": {},
   "source": [
    "**4) Una\thormiga\tque\tcamina\t20\tcm.\tal\t\tEste\ty\tluego\t15\tcm.\tal\tNorte.**"
   ]
  },
  {
   "cell_type": "markdown",
   "metadata": {},
   "source": [
    "$\\vec{d}=\\vec{d}_1+\\vec{d}_2$"
   ]
  },
  {
   "cell_type": "markdown",
   "metadata": {},
   "source": [
    "$$\\vec{d}_1=(20cm,0cm)$$"
   ]
  },
  {
   "cell_type": "markdown",
   "metadata": {},
   "source": [
    "$$\\vec{d}_2=(0cm,15cm)$$"
   ]
  },
  {
   "cell_type": "markdown",
   "metadata": {},
   "source": [
    "La suma de vectores se hace por componentes."
   ]
  },
  {
   "cell_type": "markdown",
   "metadata": {},
   "source": [
    "$$ d_x={d_1}_x+{d_2}_x=20cm+0cm=20cm $$"
   ]
  },
  {
   "cell_type": "markdown",
   "metadata": {},
   "source": [
    "$$ d_y={d_1}_y+{d_2}_y=0cm+15cm=15cm $$"
   ]
  },
  {
   "cell_type": "markdown",
   "metadata": {},
   "source": [
    "El desplazamiento resultante en forma cartesiana es"
   ]
  },
  {
   "cell_type": "markdown",
   "metadata": {},
   "source": [
    "$$\\vec{d}=(d_x,d_y)=(20cm,15cm)$$"
   ]
  },
  {
   "cell_type": "markdown",
   "metadata": {},
   "source": [
    "$$ d=\\sqrt{{d_x}^2+{d_y}^2}=\\sqrt{(20)^2+(15)^2}=\\sqrt{625}=25cm $$"
   ]
  },
  {
   "cell_type": "markdown",
   "metadata": {},
   "source": [
    "$$ \\theta=\\tan^{-1}\\left(\\dfrac{d_y}{d_x}\\right)=\\tan^{-1}\\left(\\dfrac{15cm}{20cm}\\right)=36.86^\\circ $$"
   ]
  },
  {
   "cell_type": "markdown",
   "metadata": {},
   "source": [
    "El desplazamiento resultante en forma polar es"
   ]
  },
  {
   "cell_type": "markdown",
   "metadata": {},
   "source": [
    "$$\\vec{d}=(d,\\theta)=(25cm,36.86^\\circ)$$"
   ]
  },
  {
   "cell_type": "markdown",
   "metadata": {},
   "source": [
    "**5) Resuelve\tel\tsiguiente\tsistema\tde\tfuerzas:**"
   ]
  },
  {
   "cell_type": "markdown",
   "metadata": {},
   "source": [
    "<img src=\"ej5.png\" align=\"middle\" width=\"500\">"
   ]
  },
  {
   "cell_type": "markdown",
   "metadata": {},
   "source": [
    "Con el método del polígono se puede encontrar rápidamente una resultante."
   ]
  },
  {
   "cell_type": "markdown",
   "metadata": {},
   "source": [
    "* **Método analítico:**"
   ]
  },
  {
   "cell_type": "markdown",
   "metadata": {},
   "source": [
    "* $\\vec{F}_1=(F_1,\\theta_1)=(100N,60^\\circ)$\n",
    "* $\\vec{F}_2=(F_2,\\theta_2)=(60N,165^\\circ)$\n",
    "* $\\vec{F}_3=(F_3,\\theta_3)=(80N,270^\\circ)$\n",
    "* $\\vec{F}_4=(F_4,\\theta_4)=(150N,330^\\circ)$"
   ]
  },
  {
   "cell_type": "markdown",
   "metadata": {},
   "source": [
    "$${F_x}_1=F_1\\cos\\theta_1=100N\\cos60^\\circ=50N$$"
   ]
  },
  {
   "cell_type": "code",
   "execution_count": 1,
   "metadata": {},
   "outputs": [
    {
     "data": {
      "text/plain": [
       "50.0"
      ]
     },
     "execution_count": 1,
     "metadata": {},
     "output_type": "execute_result"
    }
   ],
   "source": [
    "100*cosd(60)"
   ]
  },
  {
   "cell_type": "markdown",
   "metadata": {},
   "source": [
    "$${F_y}_1=F_1\\sin\\theta_1=100N\\sin60^\\circ=86.6N$$"
   ]
  },
  {
   "cell_type": "code",
   "execution_count": 2,
   "metadata": {},
   "outputs": [
    {
     "data": {
      "text/plain": [
       "86.60254037844386"
      ]
     },
     "execution_count": 2,
     "metadata": {},
     "output_type": "execute_result"
    }
   ],
   "source": [
    "100*sind(60)"
   ]
  },
  {
   "cell_type": "markdown",
   "metadata": {},
   "source": [
    "$${F_x}_2=F_2\\cos\\theta_2=60N\\cos165^\\circ=-57.9N$$"
   ]
  },
  {
   "cell_type": "code",
   "execution_count": 3,
   "metadata": {},
   "outputs": [
    {
     "data": {
      "text/plain": [
       "-57.9555495773441"
      ]
     },
     "execution_count": 3,
     "metadata": {},
     "output_type": "execute_result"
    }
   ],
   "source": [
    "60*cosd(165)"
   ]
  },
  {
   "cell_type": "markdown",
   "metadata": {},
   "source": [
    "$${F_y}_2=F_2\\sin\\theta_2=60N\\sin165^\\circ=15.5N$$"
   ]
  },
  {
   "cell_type": "code",
   "execution_count": 4,
   "metadata": {},
   "outputs": [
    {
     "data": {
      "text/plain": [
       "15.529142706151244"
      ]
     },
     "execution_count": 4,
     "metadata": {},
     "output_type": "execute_result"
    }
   ],
   "source": [
    "60*sind(165)"
   ]
  },
  {
   "cell_type": "markdown",
   "metadata": {},
   "source": [
    "$${F_x}_3=F_3\\cos\\theta_3=80N\\cos270^\\circ=0N$$"
   ]
  },
  {
   "cell_type": "markdown",
   "metadata": {},
   "source": [
    "$${F_y}_3=F_3\\sin\\theta_3=80N\\sin270^\\circ=-80N$$"
   ]
  },
  {
   "cell_type": "markdown",
   "metadata": {},
   "source": [
    "$${F_x}_4=F_4\\cos\\theta_4=150N\\cos330^\\circ=129.9N$$"
   ]
  },
  {
   "cell_type": "code",
   "execution_count": 5,
   "metadata": {},
   "outputs": [
    {
     "data": {
      "text/plain": [
       "129.9038105676658"
      ]
     },
     "execution_count": 5,
     "metadata": {},
     "output_type": "execute_result"
    }
   ],
   "source": [
    "150*cosd(330)"
   ]
  },
  {
   "cell_type": "markdown",
   "metadata": {},
   "source": [
    "$${F_y}_4=F_4\\sin\\theta_4=150N\\sin330^\\circ=-75N$$"
   ]
  },
  {
   "cell_type": "code",
   "execution_count": 7,
   "metadata": {},
   "outputs": [
    {
     "data": {
      "text/plain": [
       "-75.0"
      ]
     },
     "execution_count": 7,
     "metadata": {},
     "output_type": "execute_result"
    }
   ],
   "source": [
    "150*sind(330)"
   ]
  },
  {
   "cell_type": "markdown",
   "metadata": {},
   "source": [
    "* $\\vec{F}_1=({F_1}_x,{F_1}_y)=(50N,86.6N)$\n",
    "* $\\vec{F}_2=({F_2}_x,{F_2}_y)=(-57.9,15.5N)$\n",
    "* $\\vec{F}_3=({F_3}_x,{F_3}_y)=(0N,80N)$\n",
    "* $\\vec{F}_4=({F_4}_x,{F_4}_y)=(129.9N,-75N)$"
   ]
  },
  {
   "cell_type": "markdown",
   "metadata": {},
   "source": [
    "El vector resultante es la suma de los cuatro vectores"
   ]
  },
  {
   "cell_type": "markdown",
   "metadata": {},
   "source": [
    "$$\\vec{F}=\\vec{F}_1+\\vec{F}_2+\\vec{F}_3+\\vec{F}_4$$"
   ]
  },
  {
   "cell_type": "markdown",
   "metadata": {},
   "source": [
    "$$F_x={F_1}_x+{F_2}_x+{F_3}_x+{F_4}_x$$"
   ]
  },
  {
   "cell_type": "markdown",
   "metadata": {},
   "source": [
    "$$=(50N)+(-57.9N)+(0N)+(129.9N)=122N$$"
   ]
  },
  {
   "cell_type": "markdown",
   "metadata": {},
   "source": [
    "$$F_y={F_1}_y+{F_2}_y+{F_3}_y+{F_4}_y$$"
   ]
  },
  {
   "cell_type": "markdown",
   "metadata": {},
   "source": [
    "$$=(86.6N)+(15.5N)+(80N)+(-75N)=100.1N$$"
   ]
  },
  {
   "cell_type": "markdown",
   "metadata": {},
   "source": [
    "El vector resultante en su forma cartesiana es"
   ]
  },
  {
   "cell_type": "markdown",
   "metadata": {},
   "source": [
    "$$ \\vec{F}=(F_x,F_y)=(122N,100.1N) $$"
   ]
  },
  {
   "cell_type": "markdown",
   "metadata": {},
   "source": [
    "$$ F=\\sqrt{{F_x}^2+{F_y}^2}=157.81N $$"
   ]
  },
  {
   "cell_type": "markdown",
   "metadata": {},
   "source": [
    "$$ \\theta=\\tan^{-1}\\left(\\dfrac{100.1N}{122N}\\right)=39.36^\\circ $$"
   ]
  },
  {
   "cell_type": "markdown",
   "metadata": {},
   "source": [
    "El vector resultante en su forma polar es"
   ]
  },
  {
   "cell_type": "markdown",
   "metadata": {},
   "source": [
    "$$ \\vec{F}=(F,\\theta)=(157.81N,39.36^\\circ) $$"
   ]
  },
  {
   "cell_type": "markdown",
   "metadata": {},
   "source": [
    "**Extra)Encuentra el vector resultante de la suma de los vectores $\\vec{d}_1=(1.5m,-2m)$ y $\\vec{d}_2=(-3m,-1m)$ por el método gráfico y analítico.**"
   ]
  },
  {
   "cell_type": "markdown",
   "metadata": {},
   "source": [
    "**Extra)Encuentra el vector resultante de la suma de los vectores $\\vec{d}_1=(3m,15^\\circ)$ y $\\vec{d}_2=(2m,120^\\circ)$ por el método gráfico y analítico.**"
   ]
  },
  {
   "cell_type": "markdown",
   "metadata": {},
   "source": [
    "$$$$"
   ]
  }
 ],
 "metadata": {
  "kernelspec": {
   "display_name": "Julia 1.1.0",
   "language": "julia",
   "name": "julia-1.1"
  },
  "language_info": {
   "file_extension": ".jl",
   "mimetype": "application/julia",
   "name": "julia",
   "version": "1.1.0"
  }
 },
 "nbformat": 4,
 "nbformat_minor": 4
}
