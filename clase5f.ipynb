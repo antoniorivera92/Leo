{
 "cells": [
  {
   "cell_type": "markdown",
   "metadata": {},
   "source": [
    "# Termodinámica"
   ]
  },
  {
   "cell_type": "markdown",
   "metadata": {},
   "source": [
    "## Estados de agregación de la materia"
   ]
  },
  {
   "cell_type": "markdown",
   "metadata": {},
   "source": [
    "Solido"
   ]
  },
  {
   "cell_type": "markdown",
   "metadata": {},
   "source": [
    "Líquido"
   ]
  },
  {
   "cell_type": "markdown",
   "metadata": {},
   "source": [
    "Gaseoso"
   ]
  },
  {
   "cell_type": "markdown",
   "metadata": {},
   "source": [
    "## Escalas de temperatura"
   ]
  },
  {
   "cell_type": "markdown",
   "metadata": {},
   "source": [
    "### Escala de Celsius (centígrados)"
   ]
  },
  {
   "cell_type": "markdown",
   "metadata": {},
   "source": [
    "* 0°C: Congelamiento de agua o fusión del hielo"
   ]
  },
  {
   "cell_type": "markdown",
   "metadata": {},
   "source": [
    "* 100°C: Evaporación del agua o la condensación del vapor de agua"
   ]
  },
  {
   "cell_type": "markdown",
   "metadata": {},
   "source": [
    "### Escala de Fahrenheit"
   ]
  },
  {
   "cell_type": "markdown",
   "metadata": {},
   "source": [
    "* 0°F: Congelamiento de agua salada"
   ]
  },
  {
   "cell_type": "markdown",
   "metadata": {},
   "source": [
    "* 100°F: Temperatura de una persona sana"
   ]
  },
  {
   "cell_type": "markdown",
   "metadata": {},
   "source": [
    "### Escala de Kelvin"
   ]
  },
  {
   "cell_type": "markdown",
   "metadata": {},
   "source": [
    "La escala Kelvin es una escala de temperatura *absoluta* (porque no existen vaores negativos y porque el 0 K es la menor temperatura). No existe algo más abajo que 0 K."
   ]
  },
  {
   "cell_type": "markdown",
   "metadata": {},
   "source": [
    "* 0 K: La temperatura en la que todos los átomos se dejan de mover."
   ]
  },
  {
   "cell_type": "markdown",
   "metadata": {},
   "source": [
    "### Equivalencias entre cada escala"
   ]
  },
  {
   "cell_type": "markdown",
   "metadata": {},
   "source": [
    "Celsius $\\leftrightarrow$ Kelvin"
   ]
  },
  {
   "cell_type": "markdown",
   "metadata": {},
   "source": [
    "$$ T_C=T_K-273 $$"
   ]
  },
  {
   "cell_type": "markdown",
   "metadata": {},
   "source": [
    "$$ T_K=T_C+273 $$"
   ]
  },
  {
   "cell_type": "markdown",
   "metadata": {},
   "source": [
    "Celsius $\\leftrightarrow$ Fahrenheit"
   ]
  },
  {
   "cell_type": "markdown",
   "metadata": {},
   "source": [
    "$$ T_F=1.8\\cdot T_C+32 $$"
   ]
  },
  {
   "cell_type": "markdown",
   "metadata": {},
   "source": [
    "$$ T_C=\\dfrac{T_F-32}{1.8} $$"
   ]
  },
  {
   "cell_type": "markdown",
   "metadata": {},
   "source": [
    "### Ejemplos"
   ]
  },
  {
   "cell_type": "markdown",
   "metadata": {},
   "source": [
    "Temperatura a la que el agua se congela:"
   ]
  },
  {
   "cell_type": "markdown",
   "metadata": {},
   "source": [
    "$$273\\ \\rm{K}=0^\\circ\\rm{C}=32^\\circ\\rm{F}$$"
   ]
  },
  {
   "cell_type": "markdown",
   "metadata": {},
   "source": [
    "Temperatura a la hierve el agua:"
   ]
  },
  {
   "cell_type": "markdown",
   "metadata": {},
   "source": [
    "$$373\\ \\rm{K}=100^\\circ\\rm{C}=212^\\circ\\rm{F}$$"
   ]
  },
  {
   "cell_type": "code",
   "execution_count": 1,
   "metadata": {},
   "outputs": [
    {
     "data": {
      "text/plain": [
       "212.0"
      ]
     },
     "execution_count": 1,
     "metadata": {},
     "output_type": "execute_result"
    }
   ],
   "source": [
    "1.8*100+32"
   ]
  },
  {
   "cell_type": "markdown",
   "metadata": {},
   "source": [
    "Temperatura de una persona sana:"
   ]
  },
  {
   "cell_type": "markdown",
   "metadata": {},
   "source": [
    "$$309.5\\ \\rm{K}=36.5^\\circ\\rm{C}=97.7^\\circ\\rm{F}$$"
   ]
  },
  {
   "cell_type": "code",
   "execution_count": 2,
   "metadata": {},
   "outputs": [
    {
     "data": {
      "text/plain": [
       "309.5"
      ]
     },
     "execution_count": 2,
     "metadata": {},
     "output_type": "execute_result"
    }
   ],
   "source": [
    "36.5+273"
   ]
  },
  {
   "cell_type": "code",
   "execution_count": 3,
   "metadata": {},
   "outputs": [
    {
     "data": {
      "text/plain": [
       "97.7"
      ]
     },
     "execution_count": 3,
     "metadata": {},
     "output_type": "execute_result"
    }
   ],
   "source": [
    "1.8*36.5+32"
   ]
  },
  {
   "cell_type": "markdown",
   "metadata": {},
   "source": [
    "Temperatura actual de NY"
   ]
  },
  {
   "cell_type": "markdown",
   "metadata": {},
   "source": [
    "$$286.3\\ \\rm{K}=13.3^\\circ\\rm{C}=56^\\circ\\rm{F}$$"
   ]
  },
  {
   "cell_type": "code",
   "execution_count": 5,
   "metadata": {},
   "outputs": [
    {
     "data": {
      "text/plain": [
       "13.333333333333332"
      ]
     },
     "execution_count": 5,
     "metadata": {},
     "output_type": "execute_result"
    }
   ],
   "source": [
    "(56-32)/1.8"
   ]
  },
  {
   "cell_type": "markdown",
   "metadata": {},
   "source": [
    "Temperatura del nitrógeno líquido:"
   ]
  },
  {
   "cell_type": "markdown",
   "metadata": {},
   "source": [
    "$$77\\ \\rm{K}=-196^\\circ\\rm{C}=-320.8^\\circ\\rm{F}$$"
   ]
  },
  {
   "cell_type": "code",
   "execution_count": 6,
   "metadata": {},
   "outputs": [
    {
     "data": {
      "text/plain": [
       "-196"
      ]
     },
     "execution_count": 6,
     "metadata": {},
     "output_type": "execute_result"
    }
   ],
   "source": [
    "77-273"
   ]
  },
  {
   "cell_type": "code",
   "execution_count": 7,
   "metadata": {},
   "outputs": [
    {
     "data": {
      "text/plain": [
       "-320.8"
      ]
     },
     "execution_count": 7,
     "metadata": {},
     "output_type": "execute_result"
    }
   ],
   "source": [
    "1.8*(-196)+32"
   ]
  },
  {
   "cell_type": "markdown",
   "metadata": {},
   "source": [
    "## Calor específico"
   ]
  },
  {
   "cell_type": "markdown",
   "metadata": {},
   "source": [
    "Tenemos dos ollas:\n",
    "* 1ra olla tiene una masa de 1 kg y tiene 1 kg de agua en su interior\n",
    "* 2da olla tiene una masa de 2 kg y está vacía\n",
    "\n",
    "A cada una le ponemos un termómetro. Si las ponemos en la estufa para que se calienten a flama alta durante 10 min, ¿cuál tendrá mayor temperatura? "
   ]
  },
  {
   "cell_type": "markdown",
   "metadata": {},
   "source": [
    "*Calor específico* es la cantidad de calor (energía) que necesitamos proporcionarle a un gramo ($1\\ \\rm{g}$) de una sustancia para que aumente su temperatura $1^\\circ\\rm{C}$"
   ]
  },
  {
   "cell_type": "markdown",
   "metadata": {},
   "source": [
    "El agua tiene un gran calor específico."
   ]
  },
  {
   "cell_type": "markdown",
   "metadata": {},
   "source": [
    "$$ 1\\ \\rm{cal}=4.186\\ \\rm{J} $$"
   ]
  },
  {
   "cell_type": "markdown",
   "metadata": {},
   "source": [
    "El calor específico del agua es\n",
    "$$ 1000\\dfrac{\\rm{cal}}{\\rm{kg}\\cdot{}^\\circ\\rm{C}}= 1 \\dfrac{\\rm{cal}}{\\rm{g}\\cdot{}^\\circ\\rm{C}}=4.186 \\dfrac{\\rm{J}}{\\rm{g}\\cdot{}^\\circ\\rm{C}}=4186\\dfrac{\\rm{J}}{\\rm{kg}\\cdot{}^\\circ\\rm{C}} $$"
   ]
  },
  {
   "cell_type": "markdown",
   "metadata": {},
   "source": [
    "La fórmula para el calor específico es:"
   ]
  },
  {
   "cell_type": "markdown",
   "metadata": {},
   "source": [
    "$$ Q=m\\cdot C_e\\cdot\\Delta T $$"
   ]
  },
  {
   "cell_type": "markdown",
   "metadata": {},
   "source": [
    "* $Q$ : calor y me mide en $\\rm{J}$ (joules)\n",
    "* $m$ : masa y me mide en $\\rm{kg}$ (kilogramos)\n",
    "* $C_e$ : calor específico y se mide en $\\dfrac{\\rm{J}}{\\rm{kg\\cdot{}^\\circ\\rm{C}}}$\n",
    "* $\\Delta T$ : diferencia temperatura (o cuánto aumenta o disminuya la temperatura)"
   ]
  },
  {
   "cell_type": "markdown",
   "metadata": {},
   "source": [
    "$$ \\Delta T=T_f-T_i $$"
   ]
  },
  {
   "cell_type": "markdown",
   "metadata": {},
   "source": [
    "* $T_f$ : temperatura final y se pueden medir en ${}^\\circ\\rm{C}$ o en $\\rm{K}$\n",
    "* $T_i$ : temperatura inicial"
   ]
  },
  {
   "cell_type": "markdown",
   "metadata": {},
   "source": [
    "***Ejemplo:*** ¿Cuánto calor tenemos que aplicar a $3\\ \\rm{kg}$ agua para aumentar su temperatura $5^\\circ\\rm{C}$?"
   ]
  },
  {
   "cell_type": "markdown",
   "metadata": {},
   "source": [
    "* Datos:\n",
    "    * $m=3\\ \\rm{kg}$\n",
    "    * $\\Delta T=5^\\circ C$\n",
    "    * $C_e=4186\\ \\dfrac{\\rm{J}}{\\rm{kg}\\cdot{}^\\circ\\rm{ C}}$\n",
    "    * $Q=?$"
   ]
  },
  {
   "cell_type": "markdown",
   "metadata": {},
   "source": [
    "* Fórmula:"
   ]
  },
  {
   "cell_type": "markdown",
   "metadata": {},
   "source": [
    "$$ Q=m\\cdot C_e\\cdot\\Delta T $$"
   ]
  },
  {
   "cell_type": "markdown",
   "metadata": {},
   "source": [
    "* Sustitución"
   ]
  },
  {
   "cell_type": "markdown",
   "metadata": {},
   "source": [
    "$$ Q=(5kg)\\cdot\\left(4186\\ \\dfrac{\\rm{J}}{\\rm{kg}\\cdot{}^\\circ\\rm{C}}\\right) \\cdot(5^\\circ C)=62790\\ \\rm{J} $$"
   ]
  },
  {
   "cell_type": "code",
   "execution_count": 8,
   "metadata": {},
   "outputs": [
    {
     "data": {
      "text/plain": [
       "62790"
      ]
     },
     "execution_count": 8,
     "metadata": {},
     "output_type": "execute_result"
    }
   ],
   "source": [
    "3*4186*5"
   ]
  },
  {
   "cell_type": "markdown",
   "metadata": {},
   "source": [
    "***Ejemplo*** Si a una barra de acero de $2\\ \\rm{kg}$ le damos $5000\\ \\rm{J}$ de calor, ¿cuánto aumenta su temperatura?"
   ]
  },
  {
   "cell_type": "markdown",
   "metadata": {},
   "source": [
    "* Datos:\n",
    "    * $m=2\\ \\rm{kg}$\n",
    "    * $\\Delta T=?$\n",
    "    * $C_e=480\\ \\dfrac{\\rm{J}}{\\rm{kg}\\cdot{}^\\circ\\rm{C}}$\n",
    "    * $Q=5000\\ \\rm{J}$"
   ]
  },
  {
   "cell_type": "markdown",
   "metadata": {},
   "source": [
    "* Fórmula:"
   ]
  },
  {
   "cell_type": "markdown",
   "metadata": {},
   "source": [
    "$$ Q=m\\cdot C_e\\cdot\\Delta T $$"
   ]
  },
  {
   "cell_type": "markdown",
   "metadata": {},
   "source": [
    "$$ Q=m\\cdot C_e\\cdot\\Delta T $$"
   ]
  },
  {
   "cell_type": "markdown",
   "metadata": {},
   "source": [
    "$$ \\Delta T=\\dfrac{Q}{m\\cdot C_e} $$"
   ]
  },
  {
   "cell_type": "markdown",
   "metadata": {},
   "source": [
    "* Sustitución"
   ]
  },
  {
   "cell_type": "markdown",
   "metadata": {},
   "source": [
    "$$ \\Delta T=\\dfrac{5000J}{(2kg)\\cdot \\left(480\\ \\dfrac{\\rm{J}}{\\rm{kg}\\cdot^\\circ\\rm{C}}\\right)}=5.20^\\circ C $$"
   ]
  },
  {
   "cell_type": "code",
   "execution_count": 9,
   "metadata": {},
   "outputs": [
    {
     "data": {
      "text/plain": [
       "5.208333333333333"
      ]
     },
     "execution_count": 9,
     "metadata": {},
     "output_type": "execute_result"
    }
   ],
   "source": [
    "5000/(2*480)"
   ]
  },
  {
   "cell_type": "markdown",
   "metadata": {},
   "source": [
    "Si $\\Delta T$ nos da un valor negativo, significa que la temperatura disminuye."
   ]
  },
  {
   "cell_type": "markdown",
   "metadata": {},
   "source": [
    "## Energía interna"
   ]
  },
  {
   "cell_type": "markdown",
   "metadata": {},
   "source": [
    "## Métodos de transferencia de calor"
   ]
  },
  {
   "cell_type": "markdown",
   "metadata": {},
   "source": [
    "#### Conducción\n",
    "\n",
    "Se pasa el calor por contacto."
   ]
  },
  {
   "cell_type": "markdown",
   "metadata": {},
   "source": [
    "#### Convección\n",
    "\n",
    "Se mueve un fluido porque una parte está más caliente que la otra."
   ]
  },
  {
   "cell_type": "markdown",
   "metadata": {},
   "source": [
    "#### Radiación"
   ]
  },
  {
   "cell_type": "markdown",
   "metadata": {},
   "source": [
    "Calor por luz."
   ]
  }
 ],
 "metadata": {
  "kernelspec": {
   "display_name": "Julia 1.1.0",
   "language": "julia",
   "name": "julia-1.1"
  },
  "language_info": {
   "file_extension": ".jl",
   "mimetype": "application/julia",
   "name": "julia",
   "version": "1.1.0"
  }
 },
 "nbformat": 4,
 "nbformat_minor": 4
}
